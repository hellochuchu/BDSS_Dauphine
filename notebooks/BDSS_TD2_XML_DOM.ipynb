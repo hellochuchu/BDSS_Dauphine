{
  "nbformat": 4,
  "nbformat_minor": 0,
  "metadata": {
    "colab": {
      "name": "BDSS_2021_TD2_XML_DOM.ipynb",
      "provenance": [],
      "collapsed_sections": [
        "U4mPJzqOLcbA",
        "_8OUM0EBMBdK",
        "PeKNSEGDNPAz",
        "ZU_3v51sN8T9"
      ],
      "authorship_tag": "ABX9TyOiu/Hd2VGL0uTO68dznhv2",
      "include_colab_link": true
    },
    "kernelspec": {
      "name": "python3",
      "display_name": "Python 3"
    },
    "language_info": {
      "name": "python"
    }
  },
  "cells": [
    {
      "cell_type": "markdown",
      "metadata": {
        "id": "view-in-github",
        "colab_type": "text"
      },
      "source": [
        "<a href=\"https://colab.research.google.com/github/lucasgneccoh/BDSS_Dauphine/blob/main/BDSS_2021_TD2_XML_DOM.ipynb\" target=\"_parent\"><img src=\"https://colab.research.google.com/assets/colab-badge.svg\" alt=\"Open In Colab\"/></a>"
      ]
    },
    {
      "cell_type": "markdown",
      "source": [
        "# Bases de données semi-structurées - TD 2\n",
        "## XML validation, XPath and DOM in Python\n",
        "\n",
        "Welcome to the support Python notebook for this TD. This notebook follows the paper version of the TD. \n",
        "\n",
        "The idea is to make the same exercises in a more interactive way, practice some Python and also discover or practice with Google Colab notebooks."
      ],
      "metadata": {
        "id": "M-9rovwlHP_X"
      }
    },
    {
      "cell_type": "markdown",
      "source": [
        "# Preambule"
      ],
      "metadata": {
        "id": "U4mPJzqOLcbA"
      }
    },
    {
      "cell_type": "code",
      "source": [
        "from lxml import etree\n",
        "import re\n",
        "from xml.dom.minidom import parse\n",
        "\n",
        "# Functions to work with XML files\n",
        "\n",
        "def validate_xml(xml_path:str, dtd_path:str) -> bool:\n",
        "    ''' Validate an XML file  against a DTD using the lxml library\n",
        "    '''\n",
        "    try:\n",
        "        dtd = etree.DTD(open(dtd_path))\n",
        "    except etree.DTDParseError as ed:\n",
        "        print(f\"DTDParseError: {ed}\")\n",
        "        for i, er in enumerate(ed.error_log):\n",
        "            print(f\"\\t{i}-> {er.message}, at line {er.line}\")\n",
        "        etree.clear_error_log()\n",
        "        return False\n",
        "\n",
        "    try:\n",
        "        xml_doc = etree.parse(xml_path)\n",
        "    except etree.XMLSyntaxError as e:\n",
        "        print(f\"XMLSyntaxError: {e}\")\n",
        "        for i, er in enumerate(e.error_log):\n",
        "            print(f\"\\t{i}-> {er.message}, at line {er.line}\")\n",
        "        etree.clear_error_log()\n",
        "        return False\n",
        "\n",
        "    result = dtd.validate(xml_doc)\n",
        "    if not result: print(dtd.error_log[0])\n",
        "\n",
        "    return result\n",
        "\n",
        "def write_xml_dtd_files_from_strings(xml_strings, dtd_strings, identifiers = None):\n",
        "    ''' Write a list of strings into files. This strings should be XML and DTD files\n",
        "    '''\n",
        "\n",
        "    # If single strings are given, encapsulate them in lists  \n",
        "    if all(map(lambda o: isinstance(o, str), [xml_strings, dtd_strings])):\n",
        "        xml_strings, dtd_strings = [xml_strings], [dtd_strings]\n",
        "\n",
        "    if len(xml_strings) != len(dtd_strings):\n",
        "        raise Exception(\"Different number of XML and DTD strings!\")\n",
        "\n",
        "    # If no identifiers are given, create default ones. This determines file names\n",
        "    if identifiers is None:\n",
        "        identifiers = [f\"file_{i}\" for i in range(len(xml_strings))]\n",
        "\n",
        "    try:\n",
        "        for x, d, id in zip(xml_strings, dtd_strings, identifiers):\n",
        "            xml_path, dtd_path = f\"{id}.xml\", f\"{id}.dtd\" \n",
        "            with open(xml_path,\"w\") as f:\n",
        "                f.write(x)\n",
        "            with open(dtd_path,\"w\") as f:\n",
        "                f.write(d)\n",
        "    except Exception as e:\n",
        "        print(\"Problems while writing XML and DTD files\")\n",
        "        raise e\n",
        "\n",
        "    return identifiers\n",
        "\n",
        "\n",
        "\n",
        "def test_validation(xml_string, dtd_string, validator):\n",
        "    ''' Validate an XML document against a DTD, both given as strings\n",
        "    '''\n",
        "    # Write files\n",
        "    write_xml_dtd_files_from_strings(xml_string, dtd_string, identifiers = ['temp'])\n",
        "    \n",
        "    # Validate\n",
        "    return validator(\"temp.xml\", \"temp.dtd\" )\n",
        "\n",
        "def xpath_query_xml_string(xml_string, query_string):\n",
        "    xml_path = \"xml_doc.xml\"\n",
        "    with open(xml_path, \"w\") as f:\n",
        "        # Remove all whitespaces to keep the 'real' text of each node\n",
        "        f.write(re.sub(\">[\\s|\\n]*<\", \"><\", xml_string))\n",
        "        f.close()\n",
        "    xml_doc = etree.parse(xml_path)\n",
        "    query = etree.XPath(query_string)\n",
        "    return query(xml_doc)\n",
        "\n",
        "def xpath_query_xml_file(xml_path, query_string):\n",
        "    xml_doc = etree.parse(xml_path)\n",
        "    query = etree.XPath(query_string)\n",
        "    return query(xml_doc)\n",
        "\n",
        "\n",
        "def print_xpath_query_results(results):\n",
        "    print(f\"Total results: {len(results)}\")\n",
        "    print(\"*\"*20 + \"\\n\")\n",
        "    for e in results:\n",
        "        try:        \n",
        "            print(f\"node tag: {e.tag}\")\n",
        "            print(f\"node text: *{e.text}*\")\n",
        "            print(', '.join([f\"{k} = {v}\"for k, v in e.items()]))\n",
        "            print(\"-\"*20)\n",
        "        except:\n",
        "            print(\"--Except\")\n",
        "            print(e)"
      ],
      "metadata": {
        "id": "JV8pB0iDLejm"
      },
      "execution_count": null,
      "outputs": []
    },
    {
      "cell_type": "markdown",
      "source": [
        "# Examples with DOM"
      ],
      "metadata": {
        "id": "_8OUM0EBMBdK"
      }
    },
    {
      "cell_type": "code",
      "source": [
        "xml_string = \\\n",
        "'''<?xml version=\"1.0\" encoding=\"UTF-8\"?>\n",
        "\t<!DOCTYPE address SYSTEM \"dtddoc.dtd\">\n",
        "\t<carnet>\n",
        "\t\t<address name=\"Beatrice Napolitano\" id=\"_1\">\n",
        "\t\t\t<company>Paris-Dauphine</company>\n",
        "\t\t\t<phone>06 12345678</phone>\n",
        "\t\t</address>\n",
        "\t\t<address id=\"_2\">\n",
        "\t\t\t<company>Paris-Dauphine</company>\n",
        "\t\t\t<phone>06 99999999</phone>\n",
        "\t\t</address>\n",
        "\t</carnet>'''\n",
        "\n",
        "write_xml_dtd_files_from_strings(xml_string, \"\", identifiers = [\"carnet\"])\n",
        "\n",
        "def example_getId():\n",
        "\tdom = parse(\"carnet.xml\")\n",
        "\tprint(dom.hasChildNodes())\n",
        "\tfor n in dom.getElementsByTagName(\"address\"):\n",
        "\t\tif (n.hasAttribute(\"name\")):\n",
        "\t\t\tprint(n.getAttribute(\"id\"))\n",
        "   \n",
        "\n",
        "example_getId()"
      ],
      "metadata": {
        "id": "a4hErC0bZkBx",
        "colab": {
          "base_uri": "https://localhost:8080/"
        },
        "outputId": "a531167c-df68-48c2-e728-c71487c0ff49"
      },
      "execution_count": null,
      "outputs": [
        {
          "output_type": "stream",
          "name": "stdout",
          "text": [
            "True\n",
            "_1\n"
          ]
        }
      ]
    },
    {
      "cell_type": "markdown",
      "source": [
        "# Ex 1 to 5\n",
        "We will do like we did on Ex 1 from the last TD.\n",
        "Write your DTD and XML files, and validate them using the given functions"
      ],
      "metadata": {
        "id": "PeKNSEGDNPAz"
      }
    },
    {
      "cell_type": "code",
      "source": [
        "#dtddoc.dtd\n",
        "dtd_string = \\\n",
        "'''\n",
        "DTD file goes here\n",
        "'''\n",
        "\n",
        "# xmldoc.xml.\n",
        "# XML document is correct !\n",
        "\n",
        "xml_string = \\\n",
        "'''\n",
        "XML file goes here\n",
        "'''\n",
        "\n",
        "print(test_validation(xml_string, dtd_string, validate_xml))"
      ],
      "metadata": {
        "id": "qUmR0QgtNimZ"
      },
      "execution_count": null,
      "outputs": []
    },
    {
      "cell_type": "markdown",
      "source": [
        "# Ex 6\n",
        "Now the idea is to practice the queries but using this new tool.\n",
        "\n",
        "We will use the same sample files from the last TD\n",
        "\n",
        "Remember here is the documentation for DOM: https://docs.python.org/3/library/xml.dom.html"
      ],
      "metadata": {
        "id": "ZU_3v51sN8T9"
      }
    },
    {
      "cell_type": "code",
      "source": [
        "#@title Run this cell to download the files { run: \"auto\" }\n",
        "download_big_dataset = False #@param {type:\"boolean\"}\n",
        "\n",
        "\n",
        "dtd_link = \"https://universitedauphine-my.sharepoint.com/:u:/g/personal/lucas_gnecco-heredia_universitedauphine_onmicrosoft_com/EX5vDf66PLNJu4UORqO0Uc8B0Lt_YniZ2KZb41MYRzqaVA\"\n",
        "imdb_sample_link = \"https://universitedauphine-my.sharepoint.com/:u:/g/personal/lucas_gnecco-heredia_universitedauphine_onmicrosoft_com/EeHHLB6bFw9CsjLovqeVwFUB_HFKDf9cndpglovb6Bik_w\"\n",
        "\n",
        "\n",
        "dummy_dtd_link = \"https://universitedauphine-my.sharepoint.com/:u:/g/personal/lucas_gnecco-heredia_universitedauphine_onmicrosoft_com/EZz1fLB8TLlLoHvDZKi-kBEBPEviD99x-PSoLnYVapcsfQ\"\n",
        "dummy_imdb_sample_link = \"https://universitedauphine-my.sharepoint.com/:u:/g/personal/lucas_gnecco-heredia_universitedauphine_onmicrosoft_com/EaAWThKBY9JDtIgh5QrkfvYBHpOjt7VL95vyhgfVe3XVWA\"\n",
        "\n",
        "\n",
        "if download_big_dataset:\n",
        "    a, b = dtd_link, imdb_sample_link\n",
        "else:\n",
        "    a, b = dummy_dtd_link, dummy_imdb_sample_link\n",
        "\n",
        "!rm \"./dtd_films.dtd\"\n",
        "!rm \"./imdb_sample.xml\"\n",
        "\n",
        "# Download the imdb sample file\n",
        "!wget -O \"./dtd_films.dtd\" {a}\"?download=1\"\n",
        "!wget -O \"./imdb_sample.xml\" {b}\"?download=1\"\n",
        "\n",
        "# If the download fails, you will have to load the files into the Colab session. \n",
        "# Go to the Files section on the left panel\n",
        "\n",
        "if validate_xml(\"imdb_sample.xml\", \"dtd_films.dtd\"):\n",
        "    print(\"Files were downloaded correctly\")"
      ],
      "metadata": {
        "id": "rqW_on2-N7sP"
      },
      "execution_count": null,
      "outputs": []
    },
    {
      "cell_type": "code",
      "source": [
        "dom = parse(\"imdb_sample.xml\")\n",
        "\n",
        "# ----------------------------------------------------------------------------\n",
        "# Query 1\n",
        "# La liste des titres de films.\n",
        "        \n",
        "\n",
        "def dom_query_1(dom):\n",
        "    \"\"\" Your code goes here, then keep going with the other functions for the\n",
        "        other queries\n",
        "    \"\"\"\n",
        "    return None\n",
        "\n",
        "ans = dom_query_1(dom)\n",
        "print(\"1.1\\t\", ans)\n",
        "\n",
        "\n",
        "print(\"----\"*20)\n",
        "\n",
        "# ----------------------------------------------------------------------------\n",
        "# Query 2\n",
        "# Les titres des films parus en 1980.\n",
        "\n",
        "\n",
        "# ----------------------------------------------------------------------------\n",
        "# Query 3\n",
        "# Le résumé d'Alien.\n",
        "\n",
        "\n",
        "# ----------------------------------------------------------------------------\n",
        "# Query 4\n",
        "# Les titre des films avec Bruce Willis.\n",
        "\n",
        "\n",
        "# ----------------------------------------------------------------------------\n",
        "# Query 5\n",
        "# Les titres des films qui ont un résumé.\n",
        "\n",
        "\n",
        "# ----------------------------------------------------------------------------\n",
        "# Query 6\n",
        "# Les titres des films qui n'ont pas de résumé.\n",
        "\n",
        "\n",
        "# ----------------------------------------------------------------------------\n",
        "# Query 7\n",
        "# Les titres des films vieux de plus de trente ans.\n",
        "\n",
        "\n",
        "# ----------------------------------------------------------------------------\n",
        "# Query 8\n",
        "# Quel rôle joue Harvey Keitel dans Reservoir dogs ?\n",
        "\n",
        "\n",
        "# ----------------------------------------------------------------------------\n",
        "# Query 9\n",
        "# Quel est le dernier film du document ?\n",
        "\n",
        "\n"
      ],
      "metadata": {
        "id": "2wPluTR1Ord2"
      },
      "execution_count": null,
      "outputs": []
    }
  ]
}