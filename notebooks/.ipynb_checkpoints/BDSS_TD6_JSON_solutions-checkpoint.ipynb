{
 "cells": [
  {
   "cell_type": "markdown",
   "metadata": {
    "colab_type": "text",
    "id": "view-in-github"
   },
   "source": [
    "<a href=\"https://colab.research.google.com/github/lucasgneccoh/BDSS_Dauphine/blob/main/BDSS_2021_TD6_JSON_solutions.ipynb\" target=\"_parent\"><img src=\"https://colab.research.google.com/assets/colab-badge.svg\" alt=\"Open In Colab\"/></a>"
   ]
  },
  {
   "cell_type": "markdown",
   "metadata": {
    "id": "M-9rovwlHP_X"
   },
   "source": [
    "# Bases de données semi-structurées - TD 6\n",
    "\n",
    "Welcome to the support Python notebook for this TD. This notebook follows the paper version of the TD. \n",
    "\n",
    "The idea is to make the same exercises in a more interactive way, practice some Python and also discover or practice with Google Colab notebooks."
   ]
  },
  {
   "cell_type": "markdown",
   "metadata": {
    "id": "6A0I1eANdH1u"
   },
   "source": [
    "# Examples"
   ]
  },
  {
   "cell_type": "markdown",
   "metadata": {
    "id": "V8i6vqq1FuQh"
   },
   "source": [
    "## `json` library examples\n",
    "Here we show how to read and write JSON files using the `json` library.\n",
    "\n",
    "Example file is taken from \n",
    "\n",
    "https://json-schema.org/learn/getting-started-step-by-step.html#properties-deeper"
   ]
  },
  {
   "cell_type": "code",
   "execution_count": 1,
   "metadata": {
    "id": "SwLF3qxcFmqQ"
   },
   "outputs": [],
   "source": [
    "'''\n",
    "    Create a JSON object and write it in a file\n",
    "'''\n",
    "\n",
    "import json\n",
    "\n",
    "# Take the json example in Python format (a dictionary)\n",
    "# In Python, the equivalent of a JSON object is a dict\n",
    "# A JSON array is a list\n",
    "json_object = {\n",
    "                \"productId\": 1,\n",
    "                \"productName\": \"An ice sculpture\",\n",
    "                \"price\": 12.50,\n",
    "                \"tags\": [ \"cold\", \"ice\" ],\n",
    "                \"dimensions\": {\n",
    "                    \"length\": 7.0,\n",
    "                    \"width\": 12.0,\n",
    "                    \"height\": 9.5\n",
    "                    },\n",
    "                \"warehouseLocation\": {\n",
    "                    \"latitude\": -78.75,\n",
    "                    \"longitude\": 20.4\n",
    "                    }\n",
    "                }\n"
   ]
  },
  {
   "cell_type": "code",
   "execution_count": 2,
   "metadata": {
    "colab": {
     "base_uri": "https://localhost:8080/"
    },
    "id": "9p-mFB7CcUY7",
    "outputId": "694e00d6-d53a-4f6e-a762-44ad9d6b6f41"
   },
   "outputs": [
    {
     "name": "stdout",
     "output_type": "stream",
     "text": [
      "JSON object as a string:\n",
      " <class 'str'> {\"productId\": 1, \"productName\": \"An ice sculpture\", \"price\": 12.5, \"tags\": [\"cold\", \"ice\"], \"dimensions\": {\"length\": 7.0, \"width\": 12.0, \"height\": 9.5}, \"warehouseLocation\": {\"latitude\": -78.75, \"longitude\": 20.4}}\n",
      "JSON object read from a string:\n",
      " <class 'dict'> {'productId': 1, 'productName': 'An ice sculpture', 'price': 12.5, 'tags': ['cold', 'ice'], 'dimensions': {'length': 7.0, 'width': 12.0, 'height': 9.5}, 'warehouseLocation': {'latitude': -78.75, 'longitude': 20.4}}\n"
     ]
    }
   ],
   "source": [
    "'''\n",
    "    First lets print the object as a string in JSON format\n",
    "    Then read a JSON object from a string\n",
    "    Use functions json.loads and json.dumps\n",
    "\n",
    "'''\n",
    "s = json.dumps(json_object)\n",
    "print(\"JSON object as a string:\\n\", type(s), s)\n",
    "\n",
    "json_object = None\n",
    "json_object = json.loads(s)\n",
    "print(\"JSON object read from a string:\\n\", type(json_object), json_object)\n"
   ]
  },
  {
   "cell_type": "code",
   "execution_count": 3,
   "metadata": {
    "id": "HSs28a6pcPyW"
   },
   "outputs": [],
   "source": [
    "'''\n",
    "    Lets write this to a file called myjson.json\n",
    "    Use function json.dump\n",
    "'''\n",
    "\n",
    "filename = \"myjson.json\"\n",
    "with open(filename, \"w\") as f:\n",
    "    json.dump(json_object, f)\n",
    "    f.close()"
   ]
  },
  {
   "cell_type": "code",
   "execution_count": 4,
   "metadata": {
    "colab": {
     "base_uri": "https://localhost:8080/"
    },
    "id": "R9tYIY3kX1PW",
    "outputId": "56fc251d-6f29-4020-dcdb-525588d69766"
   },
   "outputs": [
    {
     "name": "stdout",
     "output_type": "stream",
     "text": [
      "{\"productId\": 1, \"productName\": \"An ice sculpture\", \"price\": 12.5, \"tags\": [\"cold\", \"ice\"], \"dimensions\": {\"length\": 7.0, \"width\": 12.0, \"height\": 9.5}, \"warehouseLocation\": {\"latitude\": -78.75, \"longitude\": 20.4}}"
     ]
    }
   ],
   "source": [
    "'''\n",
    "    Now see the content of the file as it is\n",
    "'''\n",
    "!cat myjson.json"
   ]
  },
  {
   "cell_type": "code",
   "execution_count": 5,
   "metadata": {
    "colab": {
     "base_uri": "https://localhost:8080/"
    },
    "id": "X9vRlDcKYHRJ",
    "outputId": "4ca84e27-4373-4b8e-dc3a-ff43badb7286"
   },
   "outputs": [
    {
     "name": "stdout",
     "output_type": "stream",
     "text": [
      "The json_object variable is of type: <class 'dict'>\n",
      "\n",
      "{'productId': 1, 'productName': 'An ice sculpture', 'price': 12.5, 'tags': ['cold', 'ice'], 'dimensions': {'length': 7.0, 'width': 12.0, 'height': 9.5}, 'warehouseLocation': {'latitude': -78.75, 'longitude': 20.4}}\n"
     ]
    }
   ],
   "source": [
    "'''\n",
    "    Lets read it in a Python object to see what it gives \n",
    "    Use function json.load\n",
    "'''\n",
    "json_object = None\n",
    "with open(filename, \"r\") as f:\n",
    "    json_object = json.load(f)\n",
    "\n",
    "\n",
    "print(f\"The json_object variable is of type: {type(json_object)}\")\n",
    "print()\n",
    "print(json_object)"
   ]
  },
  {
   "cell_type": "markdown",
   "metadata": {
    "id": "o8CGVXpAdKwF"
   },
   "source": [
    "## `jsonschema` library\n",
    "This library allows to validate JSON objects against a JSONSchema\n",
    "\n",
    "Again we folow the example given in \n",
    "\n",
    "https://json-schema.org/learn/getting-started-step-by-step.html#properties-deeper\n",
    "\n",
    "\n",
    "`jsonschema` documentation available at\n",
    "\n",
    "https://python-jsonschema.readthedocs.io/en/stable/\n",
    "\n"
   ]
  },
  {
   "cell_type": "code",
   "execution_count": 6,
   "metadata": {
    "id": "BbDcEtvDeTRu"
   },
   "outputs": [],
   "source": [
    "%%capture\n",
    "!pip install jsonschema\n",
    "from jsonschema import Draft7Validator, RefResolver"
   ]
  },
  {
   "cell_type": "code",
   "execution_count": 7,
   "metadata": {
    "id": "MMC5IRjWdnql"
   },
   "outputs": [],
   "source": [
    "schemaProducts =  {\n",
    "  \"$schema\": \"https://json-schema.org/draft/2020-12/schema\",\n",
    "  \"$id\": \"example.com.product.schema.json\",\n",
    "  \"title\": \"Product\",\n",
    "  \"description\": \"A product from Acme's catalog\",\n",
    "  \"type\": \"object\",\n",
    "  \"properties\": {\n",
    "    \"productId\": {\n",
    "      \"description\": \"The unique identifier for a product\",\n",
    "      \"type\": \"integer\"\n",
    "    },\n",
    "    \"productName\": {\n",
    "      \"description\": \"Name of the product\",\n",
    "      \"type\": \"string\"\n",
    "    },\n",
    "    \"price\": {\n",
    "      \"description\": \"The price of the product\",\n",
    "      \"type\": \"number\",\n",
    "      \"exclusiveMinimum\": 0\n",
    "    },\n",
    "    \"tags\": {\n",
    "      \"description\": \"Tags for the product\",\n",
    "      \"type\": \"array\",\n",
    "      \"items\": {\n",
    "        \"type\": \"string\"\n",
    "      },\n",
    "      \"minItems\": 1,\n",
    "      \"uniqueItems\": True\n",
    "    },\n",
    "    \"dimensions\": {\n",
    "      \"type\": \"object\",\n",
    "      \"properties\": {\n",
    "        \"length\": {\n",
    "          \"type\": \"number\"\n",
    "        },\n",
    "        \"width\": {\n",
    "          \"type\": \"number\"\n",
    "        },\n",
    "        \"height\": {\n",
    "          \"type\": \"number\"\n",
    "        }\n",
    "      },\n",
    "      \"required\": [ \"length\", \"width\", \"height\" ]\n",
    "    },\n",
    "    \"warehouseLocation\": {\n",
    "      \"description\": \"Coordinates of the warehouse where the product is located.\",\n",
    "      \"$ref\": \"example.com.geographical-location.schema.json\"\n",
    "    }\n",
    "  },\n",
    "  \"required\": [ \"productId\", \"productName\", \"price\" ]\n",
    "}\n",
    "\n",
    "schemaGeo = {\n",
    "  \"$id\": \"example.com.geographical-location.schema.json\",\n",
    "  \"$schema\": \"https://json-schema.org/draft/2020-12/schema\",\n",
    "  \"title\": \"Longitude and Latitude\",\n",
    "  \"description\": \"A geographical coordinate on a planet (most commonly Earth).\",\n",
    "  \"required\": [ \"latitude\", \"longitude\" ],\n",
    "  \"type\": \"object\",\n",
    "  \"properties\": {\n",
    "    \"latitude\": {\n",
    "      \"type\": \"number\",\n",
    "      \"minimum\": -90,\n",
    "      \"maximum\": 90\n",
    "    },\n",
    "    \"longitude\": {\n",
    "      \"type\": \"number\",\n",
    "      \"minimum\": -180,\n",
    "      \"maximum\": 180\n",
    "    }\n",
    "  }\n",
    "}\n",
    "\n",
    "json.dump(schemaProducts, open(\"schemaProducts.json\", \"w\") )\n",
    "json.dump(schemaGeo, open(\"schemaGeo.json\", \"w\") )"
   ]
  },
  {
   "cell_type": "code",
   "execution_count": 8,
   "metadata": {
    "colab": {
     "base_uri": "https://localhost:8080/"
    },
    "id": "0Lm5vj_AdsSx",
    "outputId": "106c25b0-027a-4475-ea83-0628672876bd"
   },
   "outputs": [
    {
     "name": "stdout",
     "output_type": "stream",
     "text": [
      "File is valid!\n"
     ]
    }
   ],
   "source": [
    "'''\n",
    "    Let's see if the example json object we worked with follows the schema or not\n",
    "'''\n",
    "schemaProducts, schemaGeo, json_object = None, None, None\n",
    "json_object = json.load(open(\"myjson.json\"))\n",
    "schemaProducts = json.load(open(\"schemaProducts.json\"))\n",
    "schemaGeo = json.load(open(\"schemaGeo.json\"))\n",
    "\n",
    "\n",
    "schema_store = {\n",
    "    schemaProducts['$id'] : schemaProducts,\n",
    "    schemaGeo['$id'] : schemaGeo,\n",
    "}\n",
    "\n",
    "# Create a resolver to work with local files and avoid fetching URLs\n",
    "resolver = RefResolver.from_schema(schemaProducts, store=schema_store)\n",
    "\n",
    "validator = Draft7Validator(schemaProducts, resolver=resolver)\n",
    "\n",
    "try:\n",
    "    validator.validate(json_object)\n",
    "    print(\"File is valid!\")\n",
    "except Exception as e:\n",
    "    print(\"File was not validated correctly. Here are the catched exceptions\\n\")\n",
    "    print(e)"
   ]
  },
  {
   "cell_type": "code",
   "execution_count": 9,
   "metadata": {
    "colab": {
     "base_uri": "https://localhost:8080/"
    },
    "id": "CMoWnHXKlnHb",
    "outputId": "8a4a01d3-a841-4339-8e1a-5409beeef99c"
   },
   "outputs": [
    {
     "name": "stdout",
     "output_type": "stream",
     "text": [
      "File was not validated correctly. Here are the catched exceptions\n",
      "\n",
      "'Hello' is not of type 'integer'\n",
      "\n",
      "Failed validating 'type' in schema['properties']['productId']:\n",
      "    {'description': 'The unique identifier for a product',\n",
      "     'type': 'integer'}\n",
      "\n",
      "On instance['productId']:\n",
      "    'Hello'\n"
     ]
    }
   ],
   "source": [
    "'''\n",
    "    Let's see what happens when we do not follow the schema\n",
    "'''\n",
    "\n",
    "json_object['warehouseLocation']['latitude'] = 120\n",
    "json_object['productId'] = 'Hello'\n",
    "\n",
    "try:\n",
    "    validator.validate(json_object)\n",
    "    print(\"File is valid!\")\n",
    "except Exception as e:\n",
    "    print(\"File was not validated correctly. Here are the catched exceptions\\n\")\n",
    "    print(e)"
   ]
  },
  {
   "cell_type": "markdown",
   "metadata": {
    "id": "LwMWWwBmnFTU"
   },
   "source": [
    "# Excercise 1: Write a schema\n",
    "\n",
    "To begin with, we are going to create a schema for a very simple situation we already know well... films!\n",
    "\n",
    "Take the original DTD for the FILMS database and make it a JSON schema. \n",
    "\n",
    "**You can change some things if you want to make it more complex or realistic, as long as the Schema is well written and makes sense.**\n",
    "\n",
    "***NOTE: Be careful, there might be some structural changes needed***\n",
    "\n",
    "Here is the DTD\n",
    "\n",
    "```\n",
    "    <!ELEMENT FILMS (FILM+, ARTISTE+)>\n",
    "    <!ELEMENT FILM (TITRE, GENRE, PAYS, MES, ROLES, RESUME?)>\n",
    "    <!ELEMENT TITRE (#PCDATA)>\n",
    "    <!ATTLIST FILM Annee CDATA #REQUIRED>\n",
    "    <!ELEMENT GENRE (#PCDATA)>\n",
    "    <!ELEMENT PAYS (#PCDATA)>\n",
    "    <!ELEMENT MES (#PCDATA)>\n",
    "    <!ATTLIST MES id_mes IDREF #IMPLIED>\n",
    "    <!ELEMENT ROLES (ROLE*)>\n",
    "    <!ELEMENT ROLE (PRENOM, NOM, INTITULE)>\n",
    "    <!ELEMENT PRENOM (#PCDATA)>\n",
    "    <!ELEMENT NOM (#PCDATA)>\n",
    "    <!ELEMENT INTITULE (#PCDATA)>\n",
    "    <!ELEMENT RESUME (#PCDATA)>\n",
    "    <!ELEMENT ARTISTE (ACTNOM, ACTPNOM, ANNEENAISS)>\n",
    "    <!ATTLIST ARTISTE id_art ID #REQUIRED>\n",
    "    <!ELEMENT ACTNOM (#PCDATA)>\n",
    "    <!ELEMENT ACTPNOM (#PCDATA)>\n",
    "    <!ELEMENT ANNEENAISS (#PCDATA)>\n",
    "```"
   ]
  },
  {
   "cell_type": "code",
   "execution_count": 10,
   "metadata": {
    "colab": {
     "base_uri": "https://localhost:8080/"
    },
    "id": "ez0VlsI9tj6V",
    "outputId": "8679e5e8-ee9e-4114-a83a-0122182eacc6"
   },
   "outputs": [
    {
     "name": "stdout",
     "output_type": "stream",
     "text": [
      "{'Science-fiction', 'Thriller', 'Comédie', 'Documentaire', 'Western', 'Drame', 'Policier', 'Fantastique', 'Suspense', 'Dessin animé', 'Guerre', 'Horreur', 'Action'}\n",
      "{'JP', 'USA', 'FR'}\n"
     ]
    }
   ],
   "source": [
    "'''\n",
    "    Get all the genres to create a good schema using SAX\n",
    "'''\n",
    "from lxml import etree\n",
    "import re\n",
    "from xml.dom.minidom import parse\n",
    "import xml.sax\n",
    "\n",
    "class GetTextInsideTag(xml.sax.ContentHandler):\n",
    "    def __init__(self, tag = None):\n",
    "        super().__init__()\n",
    "        self.tag = tag\n",
    "        self.reading = False\n",
    "        self.buffer = []\n",
    "        self.result = []\n",
    "        \n",
    "\n",
    "    def startElement(self, name, attrs):\n",
    "        if not self.tag is None and name == self.tag:\n",
    "            self.reading = True\n",
    "        return\n",
    "\n",
    "\n",
    "    def endElement(self, name):\n",
    "        if self.buffer:\n",
    "            # If something was read, then add it to results\n",
    "            # before reseting the buffer\n",
    "            self.result.append(' '.join(self.buffer))\n",
    "        self.reading = False\n",
    "        self.buffer = []\n",
    "        return\n",
    "\n",
    "    def characters(self, content):\n",
    "        # When text is encountered\n",
    "        # print(\"Characters '\" + content + \"'\")\n",
    "        if self.reading: self.buffer.append(content)\n",
    "        return\n",
    "\n",
    "\n",
    "\n",
    "\n",
    "path = \"films.xml\"\n",
    "\n",
    "\n",
    "f = open(path)\n",
    "handler = GetTextInsideTag(tag = \"GENRE\")\n",
    "xml.sax.parse(f, handler)\n",
    "unique_genres = set(handler.result)\n",
    "print(unique_genres)\n",
    "\n",
    "f = open(path)\n",
    "handler = GetTextInsideTag(tag = \"PAYS\")\n",
    "xml.sax.parse(f, handler)\n",
    "unique_pays = set(handler.result)\n",
    "print(unique_pays)"
   ]
  },
  {
   "cell_type": "code",
   "execution_count": 11,
   "metadata": {
    "id": "8TCrjDK_n5R-"
   },
   "outputs": [],
   "source": [
    "'''\n",
    "    My proposed solution is structured like this:\n",
    "        - FILMS, the root, is an object containing two arrays: arrFilms and arrArtistes\n",
    "        - FILM is an object that represents one film\n",
    "        - ARTISTE is an object that represents one artist\n",
    "'''\n",
    "\n",
    "\n",
    "schemaRole = {\n",
    "    \"$id\": \"dauphine.bdss.role\",\n",
    "    \"$schema\": \"https://json-schema.org/draft/2020-12/schema\",\n",
    "    \"title\": \"Film role\",\n",
    "    \"description\": \"A role played in a film by an artist.\",\n",
    "    \"required\": [ \"NOM\", \"PRENOM\"],\n",
    "    \"type\": \"object\",\n",
    "    \"properties\": {\n",
    "        \"NOM\": {\n",
    "            \"description\": \"Last name of the artist\",\n",
    "            \"type\": \"string\",\n",
    "        },\n",
    "        \"PRENOM\": {\n",
    "            \"description\": \"Name of the artist\",\n",
    "            \"type\": \"string\"\n",
    "        },\n",
    "        \"INTITULE\": {\n",
    "            \"description\": \"Name of the character in the film\",\n",
    "            \"type\": \"string\"\n",
    "        }\n",
    "    }\n",
    "}\n",
    "\n",
    "schemaFilmsObject = {\n",
    "    \"$id\": \"dauphine.bdss.film\",\n",
    "    \"$schema\": \"https://json-schema.org/draft/2020-12/schema\",\n",
    "    \"title\": \"Film object\",\n",
    "    \"description\": \"Object representing one single film.\",\n",
    "    \"required\": [\"Annee\", \"TITRE\", \"MES\", \"ROLES\"],\n",
    "    \"type\": \"object\",\n",
    "    \"properties\": {\n",
    "        \"Anne\": {\n",
    "            \"description\": \"Integer containing the year of release of the film\",\n",
    "            \"type\" : \"number\",\n",
    "            \"minimum\" : 1880,\n",
    "            \"maximum\" : 2022\n",
    "        },\n",
    "        \"TITRE\": {\n",
    "            \"description\": \"Object representing the title of the film and making explicit the language and other attributes of the title\",\n",
    "            \"type\": \"object\",\n",
    "            \"properties\": {\n",
    "                \"title\": {\n",
    "                    \"description\": \"The actual title of the film\",\n",
    "                    \"type\": \"string\"\n",
    "                },\n",
    "                \"lang\":{\n",
    "                    \"description\": \"Language tag representing the language of the title\",\n",
    "                    \"type\": \"string\"\n",
    "                },\n",
    "                \"note\":{\n",
    "                    \"description\": \"Any observation about the title, like its origin, whether it is the official one or not, etc\",\n",
    "                    \"type\": \"string\"\n",
    "                }\n",
    "            },\n",
    "            \"required\": [\"title\", \"lang\"]\n",
    "        },\n",
    "        \"GENRE\": {\n",
    "            \"description\": \"The genre used to tag this film\",\n",
    "            \"type\": \"string\",\n",
    "            \"enum\": list(unique_genres)\n",
    "        },\n",
    "        \"PAYS\": {\n",
    "            \"description\": \"The country of the film, whatever that means\",\n",
    "            \"type\": \"string\",\n",
    "            \"enum\": list(unique_pays)\n",
    "        },\n",
    "        \"MES\": {\n",
    "            \"description\": \"The artist_id of the director of the film\",\n",
    "            \"type\": \"string\"\n",
    "        },\n",
    "        \"ROLES\": {\n",
    "            \"description\": \"Array of the roles in the movie\",\n",
    "            \"type\": \"array\",\n",
    "            \"items\": {\n",
    "                \"description\": \"A role is made of the name and last name of the artist that played the role and the name of the played character\",\n",
    "                \"$ref\": \"dauphine.bdss.role\"\n",
    "            }\n",
    "        },\n",
    "        \"RESUME\": {\n",
    "            \"description\": \"A short description of the film. make it interesting!\",\n",
    "            \"type\": \"string\"\n",
    "        }\n",
    "    }\n",
    "}\n",
    "\n",
    "\n",
    "schemaArtistObject = {\n",
    "    \"$id\": \"dauphine.bdss.artiste\",\n",
    "    \"$schema\": \"https://json-schema.org/draft/2020-12/schema\",\n",
    "    \"title\": \"Film object\",\n",
    "    \"description\": \"Object representing one single artist.\",\n",
    "    \"required\": [\"id_art\", \"ACTNOM\", \"ACTPNOM\"],\n",
    "    \"type\": \"object\",\n",
    "    \"properties\": {\n",
    "        \"id_art\" : {\n",
    "            \"description\" : \"Unique identifier of the artist in the database\",\n",
    "            \"type\" : \"string\"\n",
    "        },\n",
    "        \"ACTNOM\": {\n",
    "            \"description\": \"Last name of the artist\",\n",
    "            \"type\": \"string\"\n",
    "        },\n",
    "        \"ACTPNOM\": {\n",
    "            \"description\": \"Name of the artist\",\n",
    "            \"type\": \"string\"\n",
    "        },\n",
    "        \"ANNEENAISS\": {\n",
    "            \"description\": \"Name of the character in the film\",\n",
    "            \"type\": \"string\"\n",
    "        }\n",
    "    }\n",
    "}\n",
    "\n",
    "\n",
    "\n",
    "schemaFilmsDatabase = {\n",
    "    \"$id\": \"dauphine.bdss.filmsDatabase\",\n",
    "    \"$schema\": \"https://json-schema.org/draft/2020-12/schema\",\n",
    "    \"title\": \"Our beloved films database\",\n",
    "    \"description\": \"A film database that was once scrapped from the internet.\",\n",
    "    \"required\": [ \"arrFilms\", \"arrArtistes\" ],\n",
    "    \"type\": \"object\",\n",
    "    \"properties\": {\n",
    "        \"arrFilms\": {\n",
    "            \"description\": \"The array containing all the films\",\n",
    "            \"type\": \"array\",\n",
    "            \"items\": {\n",
    "                \"description\": \"Object of type film\",\n",
    "                \"$ref\": \"dauphine.bdss.film\"\n",
    "            },\n",
    "            \"minItems\": 1\n",
    "        },\n",
    "        \"arrArtistes\": {\n",
    "            \"description\": \"The array containing all the artists\",\n",
    "            \"type\": \"array\",\n",
    "            \"items\": {\n",
    "                \"description\": \"Object of type artiste\",\n",
    "                \"$ref\": \"dauphine.bdss.artiste\"\n",
    "            },\n",
    "            \"minItems\": 1\n",
    "        }\n",
    "    }\n",
    "}\n",
    "\n",
    "\n",
    "# Save schemas\n",
    "json.dump(schemaRole, open('schemaRole.json', 'w'))\n",
    "json.dump(schemaFilmsObject, open('schemaFilmsObject.json', 'w'))\n",
    "json.dump(schemaArtistObject, open('schemaArtistObject.json', 'w'))\n",
    "json.dump(schemaFilmsDatabase, open('schemaFilmsDatabase.json', 'w'))"
   ]
  },
  {
   "cell_type": "markdown",
   "metadata": {
    "id": "IZ3hOsDu4t3Q"
   },
   "source": [
    "# Excercise 2: XML to JSON\n",
    "\n",
    "Transform the original XML Films database into a JSON file (or files) following your schema.\n",
    "\n",
    "Use your favorite tool: Basic python, SAX, DOM, xml..."
   ]
  },
  {
   "cell_type": "markdown",
   "metadata": {
    "id": "PScrJhXx5can"
   },
   "source": [
    "Solution using `DOM`"
   ]
  },
  {
   "cell_type": "code",
   "execution_count": 12,
   "metadata": {
    "id": "pQGcL-JP5Uha"
   },
   "outputs": [],
   "source": [
    "from lxml import etree\n",
    "import re\n",
    "from xml.dom.minidom import parse\n",
    "import copy\n",
    "\n",
    "dom = parse(\"films.xml\")\n",
    "filmTextElems = [\"TITRE\", \"GENRE\", \"PAYS\", \"RESUME\"]\n",
    "artistTextElems = [\"ACTNOM\", \"ACTPNOM\", \"ANNEENAISS\"]\n",
    "roleTextElements = [\"NOM\", \"PRENOM\", \"INTITULE\"]\n",
    "\n",
    "def getText(node):\n",
    "    try:\n",
    "        return node.childNodes[0].data\n",
    "    except Exception as e:  \n",
    "        print(f'Problems getText with node {node.tagName}')\n",
    "        raise e\n",
    "\n",
    "def getAttributes(node):\n",
    "    res = {}\n",
    "    if node.hasAttributes():\n",
    "        for k, v in node.attributes.items():\n",
    "            res[k] = v\n",
    "    return res\n",
    "\n",
    "def getTextElements(node, elements):\n",
    "    res = {}\n",
    "    for elem in elements:\n",
    "        for t in node.getElementsByTagName(elem):\n",
    "            if t.hasChildNodes():\n",
    "                res[elem] = getText(t)\n",
    "            \n",
    "    return res\n",
    "\n",
    "# Get films\n",
    "films = []\n",
    "for f in dom.getElementsByTagName(\"FILM\"):\n",
    "    film = getTextElements(f, filmTextElems)\n",
    "    film.update(getAttributes(f))\n",
    "\n",
    "    # Read MES\n",
    "    for m in f.getElementsByTagName('MES'):\n",
    "        film[\"MES\"] = m.getAttribute('id_mes')\n",
    "    \n",
    "    # Read ROLES\n",
    "    roles = []\n",
    "    for r in f.getElementsByTagName('ROLE'):\n",
    "        roles.append(getTextElements(r, roleTextElements))\n",
    "    \n",
    "    film.update({'ROLES':  copy.deepcopy(roles)})\n",
    "\n",
    "    # I created a special TITRE. I have to create it\n",
    "    film[\"TITRE\"] = {\n",
    "        \"title\": film[\"TITRE\"],\n",
    "        \"lang\": \"@fr\",\n",
    "        \"note\": \"Lorem ipsum\"\n",
    "    }\n",
    "\n",
    "    films.append(film)\n",
    "\n",
    "\n",
    "# Get artists\n",
    "artists = []\n",
    "for a in dom.getElementsByTagName(\"ARTISTE\"):\n",
    "    artist = getTextElements(a, artistTextElems)\n",
    "    artist.update(getAttributes(a))\n",
    "    artists.append(artist)\n",
    "\n",
    "\n",
    "\n",
    "FILMS = {'arrArtistes':artists , 'arrFilms':films}\n",
    "\n",
    "# Save\n",
    "json.dump(FILMS, open('films.json', 'w'))"
   ]
  },
  {
   "cell_type": "markdown",
   "metadata": {
    "id": "YiS7o5SC_PPS"
   },
   "source": [
    "# Excercise 3: Validate the data\n",
    "\n",
    "Validate the FILMS dataset you just created with the JSON schema you created"
   ]
  },
  {
   "cell_type": "code",
   "execution_count": 13,
   "metadata": {
    "colab": {
     "base_uri": "https://localhost:8080/"
    },
    "id": "flV45W4m_ZJt",
    "outputId": "cae5ddd5-2bb7-4960-d2e5-d6f8cba8c948"
   },
   "outputs": [
    {
     "name": "stdout",
     "output_type": "stream",
     "text": [
      "File is valid!\n"
     ]
    }
   ],
   "source": [
    "schema_store = {\n",
    "    schemaRole['$id']: schemaRole,\n",
    "    schemaFilmsObject['$id'] : schemaFilmsObject,\n",
    "    schemaArtistObject['$id'] : schemaArtistObject,\n",
    "    schemaFilmsDatabase['$id']: schemaFilmsDatabase\n",
    "}\n",
    "\n",
    "# Create a resolver to work with local files and avoid fetching URLs\n",
    "resolver = RefResolver.from_schema(schemaFilmsDatabase, store=schema_store)\n",
    "\n",
    "validator = Draft7Validator(schemaFilmsDatabase, resolver=resolver)\n",
    "\n",
    "try:\n",
    "    validator.validate(FILMS)\n",
    "    print(\"File is valid!\")\n",
    "except Exception as e:\n",
    "    print(\"File was not validated correctly. Here are the catched exceptions\\n\")\n",
    "    print(e)"
   ]
  },
  {
   "cell_type": "code",
   "execution_count": null,
   "metadata": {
    "id": "9CpQavsnBi0p"
   },
   "outputs": [],
   "source": []
  }
 ],
 "metadata": {
  "colab": {
   "authorship_tag": "ABX9TyNDxi0vAZLobzU2qTtd0zJy",
   "collapsed_sections": [
    "V8i6vqq1FuQh",
    "o8CGVXpAdKwF",
    "LwMWWwBmnFTU",
    "IZ3hOsDu4t3Q",
    "YiS7o5SC_PPS"
   ],
   "include_colab_link": true,
   "name": "BDSS_2021_TD6_JSON_solutions.ipynb",
   "provenance": []
  },
  "kernelspec": {
   "display_name": "Python 3 (ipykernel)",
   "language": "python",
   "name": "python3"
  },
  "language_info": {
   "codemirror_mode": {
    "name": "ipython",
    "version": 3
   },
   "file_extension": ".py",
   "mimetype": "text/x-python",
   "name": "python",
   "nbconvert_exporter": "python",
   "pygments_lexer": "ipython3",
   "version": "3.8.10"
  }
 },
 "nbformat": 4,
 "nbformat_minor": 1
}
