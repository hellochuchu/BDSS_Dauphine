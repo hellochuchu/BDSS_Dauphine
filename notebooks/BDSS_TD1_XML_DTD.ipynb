{
  "nbformat": 4,
  "nbformat_minor": 0,
  "metadata": {
    "colab": {
      "name": "BDSS_2021_TD1_XML_DTD.ipynb",
      "provenance": [],
      "collapsed_sections": [
        "hu2CCAYzRXhr",
        "BjWrwH66Rh1t",
        "xJu987YFTurY",
        "xBgb-XZc3dOR",
        "0_sTbR1K5KQ7",
        "mf3UknwONbO8",
        "Ivbl7fKNz0hk",
        "0r32qzp8t6Ny",
        "AQSEXjSU6XYd",
        "4sM7BP45AFR8"
      ],
      "authorship_tag": "ABX9TyNg0AkX3+pcmCLmI9YnOPz/",
      "include_colab_link": true
    },
    "kernelspec": {
      "name": "python3",
      "display_name": "Python 3"
    },
    "language_info": {
      "name": "python"
    }
  },
  "cells": [
    {
      "cell_type": "markdown",
      "metadata": {
        "id": "view-in-github",
        "colab_type": "text"
      },
      "source": [
        "<a href=\"https://colab.research.google.com/github/lucasgneccoh/BDSS_Dauphine/blob/main/BDSS_2021_TD1_XML_DTD.ipynb\" target=\"_parent\"><img src=\"https://colab.research.google.com/assets/colab-badge.svg\" alt=\"Open In Colab\"/></a>"
      ]
    },
    {
      "cell_type": "markdown",
      "source": [
        "# Bases de données semi-structurées - TD 1\n",
        "## XML and DTD\n",
        "\n",
        "Welcome to the support Python notebook for this TD. This notebook follows the paper version of the TD. \n",
        "\n",
        "The idea is to make the same exercises in a more interactive way, practice some Python and also discover or practice with Google Colab notebooks."
      ],
      "metadata": {
        "id": "k4BF_jVp-J07"
      }
    },
    {
      "cell_type": "markdown",
      "source": [
        "# Preambule\n",
        "Import modules, define functions\n",
        "\n",
        "Run this code to be able to run all the other things"
      ],
      "metadata": {
        "id": "hu2CCAYzRXhr"
      }
    },
    {
      "cell_type": "code",
      "execution_count": null,
      "metadata": {
        "colab": {
          "base_uri": "https://localhost:8080/"
        },
        "id": "Wp2vE361G0bt",
        "outputId": "07fc9694-ec3b-4e2c-85c6-0c73f7a4adfc"
      },
      "outputs": [
        {
          "output_type": "stream",
          "name": "stdout",
          "text": [
            "lxml                          4.2.6\n"
          ]
        }
      ],
      "source": [
        "# Check if lxml is installed. If it is not, install it using pip\n",
        "!pip list | grep lxml"
      ]
    },
    {
      "cell_type": "code",
      "source": [
        "from lxml import etree\n",
        "import re"
      ],
      "metadata": {
        "id": "s3Tsq1J8LZOz"
      },
      "execution_count": null,
      "outputs": []
    },
    {
      "cell_type": "code",
      "source": [
        "# Functions to work with XML files\n",
        "\n",
        "def validate_xml(xml_path:str, dtd_path:str) -> bool:\n",
        "    ''' Validate an XML file  against a DTD using the lxml library\n",
        "    '''\n",
        "    try:\n",
        "        dtd = etree.DTD(open(dtd_path))\n",
        "    except etree.DTDParseError as ed:\n",
        "        print(f\"DTDParseError: {ed}\")\n",
        "        for i, er in enumerate(ed.error_log):\n",
        "            print(f\"\\t{i}-> {er.message}, at line {er.line}\")\n",
        "        etree.clear_error_log()\n",
        "        return False\n",
        "\n",
        "    try:\n",
        "        xml_doc = etree.parse(xml_path)\n",
        "    except etree.XMLSyntaxError as e:\n",
        "        print(f\"XMLSyntaxError: {e}\")\n",
        "        for i, er in enumerate(e.error_log):\n",
        "            print(f\"\\t{i}-> {er.message}, at line {er.line}\")\n",
        "        etree.clear_error_log()\n",
        "        return False\n",
        "\n",
        "    result = dtd.validate(xml_doc)\n",
        "    if not result: print(dtd.error_log[0])\n",
        "\n",
        "    return result\n",
        "\n",
        "def write_xml_dtd_files_from_strings(xml_strings, dtd_strings, identifiers = None):\n",
        "    ''' Write a list of strings into files. This strings should be XML and DTD files\n",
        "    '''\n",
        "\n",
        "    # If single strings are given, encapsulate them in lists  \n",
        "    if all(map(lambda o: isinstance(o, str), [xml_strings, dtd_strings])):\n",
        "        xml_strings, dtd_strings = [xml_strings], [dtd_strings]\n",
        "\n",
        "    if len(xml_strings) != len(dtd_strings):\n",
        "        raise Exception(\"Different number of XML and DTD strings!\")\n",
        "\n",
        "    # If no identifiers are given, create default ones. This determines file names\n",
        "    if identifiers is None:\n",
        "        identifiers = [f\"file_{i}\" for i in range(len(xml_strings))]\n",
        "\n",
        "    try:\n",
        "        for x, d, id in zip(xml_strings, dtd_strings, identifiers):\n",
        "            xml_path, dtd_path = f\"{id}.xml\", f\"{id}.dtd\" \n",
        "            with open(xml_path,\"w\") as f:\n",
        "                f.write(x)\n",
        "            with open(dtd_path,\"w\") as f:\n",
        "                f.write(d)\n",
        "    except Exception as e:\n",
        "        print(\"Problems while writing XML and DTD files\")\n",
        "        raise e\n",
        "\n",
        "    return identifiers\n",
        "\n",
        "\n",
        "\n",
        "def test_validation(xml_string, dtd_string, validator):\n",
        "    ''' Validate an XML document against a DTD, both given as strings\n",
        "    '''\n",
        "    # Write files\n",
        "    write_xml_dtd_files_from_strings(xml_string, dtd_string, identifiers = ['temp'])\n",
        "    \n",
        "    # Validate\n",
        "    return validator(\"temp.xml\", \"temp.dtd\" )\n",
        "\n",
        "def xpath_query_xml_string(xml_string, query_string):\n",
        "    xml_path = \"xml_doc.xml\"\n",
        "    with open(xml_path, \"w\") as f:\n",
        "        # Remove all whitespaces to keep the 'real' text of each node\n",
        "        f.write(re.sub(\">[\\s|\\n]*<\", \"><\", xml_string))\n",
        "        f.close()\n",
        "    xml_doc = etree.parse(xml_path)\n",
        "    query = etree.XPath(query_string)\n",
        "    return query(xml_doc)\n",
        "\n",
        "def xpath_query_xml_file(xml_path, query_string):\n",
        "    xml_doc = etree.parse(xml_path)\n",
        "    query = etree.XPath(query_string)\n",
        "    return query(xml_doc)\n",
        "\n",
        "\n",
        "def print_xpath_query_results(results):\n",
        "    print(f\"Total results: {len(results)}\")\n",
        "    print(\"*\"*20 + \"\\n\")\n",
        "    for e in results:\n",
        "        try:        \n",
        "            print(f\"node tag: {e.tag}\")\n",
        "            print(f\"node text: *{e.text}*\")\n",
        "            print(', '.join([f\"{k} = {v}\"for k, v in e.items()]))\n",
        "            print(\"-\"*20)\n",
        "        except:\n",
        "            print(\"--Except\")\n",
        "            print(e)"
      ],
      "metadata": {
        "id": "kUw8_c-ILeVX"
      },
      "execution_count": null,
      "outputs": []
    },
    {
      "cell_type": "markdown",
      "source": [
        "## Save XML and DTD files from strings"
      ],
      "metadata": {
        "id": "BjWrwH66Rh1t"
      }
    },
    {
      "cell_type": "code",
      "source": [
        "# Dummy files to test with\n",
        "\n",
        "xml_strings, dtd_strings, identifiers = [],[],[]\n",
        "\n",
        "### ---- FILE 1 ----\n",
        "#dtddoc.dtd\n",
        "dtd_string = \\\n",
        "'''<!ELEMENT address (name,company,phone)>\n",
        "<!ELEMENT name (#PCDATA)>\n",
        "<!ELEMENT company (#PCDATA)>\n",
        "<!ELEMENT phone (#PCDATA)>'''\n",
        "\n",
        "# xmldoc.xml\n",
        "xml_string = \\\n",
        "'''<?xml version=\"1.0\" encoding=\"UTF-8\"?>\n",
        "<!DOCTYPE address SYSTEM \"dtddoc.dtd\">\n",
        "<address>\n",
        "    <name>Beatrice </name>\n",
        "    <company>Paris-Dauphine</company>\n",
        "    <phone>06 12345678</phone>\n",
        "</address>'''\n",
        "\n",
        "dtd_strings.append(dtd_string)\n",
        "xml_strings.append(xml_string)\n",
        "identifiers.append(\"address_book\")\n",
        "\n",
        "### ---- FILE 2 ----\n",
        "\n",
        "#dtddoc.dtd\n",
        "dtd_string = \\\n",
        "'''<!ELEMENT address EMPTY>\n",
        "<!ATTLIST address name CDATA #REQUIRED>\n",
        "<!ATTLIST address company CDATA #IMPLIED>\n",
        "<!ATTLIST address phone CDATA #REQUIRED>'''\n",
        "\n",
        "# xmldoc.xml\n",
        "xml_string = \\\n",
        "'''<?xml version=\"1.0\" encoding=\"UTF-8\"?>\n",
        "<!DOCTYPE address SYSTEM \"dtddoc2.dtd\">\n",
        "<address name=\"Beatrice\" phone=\"06 12345678\"/>'''\n",
        "\n",
        "dtd_strings.append(dtd_string)\n",
        "xml_strings.append(xml_string)\n",
        "identifiers.append(\"address_book_2\")\n"
      ],
      "metadata": {
        "id": "xkS4495kNV7s"
      },
      "execution_count": null,
      "outputs": []
    },
    {
      "cell_type": "code",
      "source": [
        "# Write all the files to the temporal memory of the Colab session\n",
        "test_files = write_xml_dtd_files_from_strings(xml_strings, dtd_strings, identifiers)"
      ],
      "metadata": {
        "id": "Lxe5e1bHSfJt"
      },
      "execution_count": null,
      "outputs": []
    },
    {
      "cell_type": "markdown",
      "source": [
        "Test XML validation"
      ],
      "metadata": {
        "id": "8xb9Q_SKS1FH"
      }
    },
    {
      "cell_type": "code",
      "source": [
        "# Test validation using strings\n",
        "test_validation(xml_string, dtd_string, validate_xml)"
      ],
      "metadata": {
        "colab": {
          "base_uri": "https://localhost:8080/"
        },
        "id": "lZx0oe0gOL4e",
        "outputId": "5bc01198-5e86-4110-947d-0ccc223d3462"
      },
      "execution_count": null,
      "outputs": [
        {
          "output_type": "execute_result",
          "data": {
            "text/plain": [
              "True"
            ]
          },
          "metadata": {},
          "execution_count": 16
        }
      ]
    },
    {
      "cell_type": "code",
      "source": [
        "# Test with the files. \n",
        "# Make sure you saved the files using the previous section\n",
        "xml_path, dtd_path = f\"{test_files[0]}.xml\", f\"{test_files[0]}.dtd\"\n",
        "validate_xml(xml_path, dtd_path)"
      ],
      "metadata": {
        "colab": {
          "base_uri": "https://localhost:8080/"
        },
        "id": "nVvwcHJoS9CC",
        "outputId": "7b9164ec-fd7e-481e-e669-68910ccf6546"
      },
      "execution_count": null,
      "outputs": [
        {
          "output_type": "execute_result",
          "data": {
            "text/plain": [
              "True"
            ]
          },
          "metadata": {},
          "execution_count": 17
        }
      ]
    },
    {
      "cell_type": "markdown",
      "source": [
        "# Ex 1\n",
        "Decide if the XML documents are correct. To validate them, the corresponding DTD file must be defined"
      ],
      "metadata": {
        "id": "xJu987YFTurY"
      }
    },
    {
      "cell_type": "code",
      "source": [
        "# ---- Ex 1.1 ----\n",
        "\n",
        "\n",
        "#dtddoc.dtd\n",
        "dtd_string = \\\n",
        "'''\n",
        "DTD goes here\n",
        "'''\n",
        "\n",
        "# xmldoc.xml.\n",
        "\n",
        "xml_string = \\\n",
        "'''<?xml version=\"1.0\" encoding=\"UTF-8\"?>\n",
        "<html>\n",
        "    <head>\n",
        "        <title>Hello, World</title>\n",
        "    </head>\n",
        "    <body>\n",
        "        <p>Hello, World</p>        \n",
        "    </body>\n",
        "</html>'''\n",
        "\n",
        "xml_string_correct = \\\n",
        "'''\n",
        "Correction goes here\n",
        "'''\n",
        "\n",
        "print(test_validation(xml_string, dtd_string, validate_xml))\n",
        "print(\" ***** Corrected ******\")\n",
        "print(test_validation(xml_string_correct, dtd_string, validate_xml))"
      ],
      "metadata": {
        "colab": {
          "base_uri": "https://localhost:8080/"
        },
        "id": "DYxZl8MZTuJ1",
        "outputId": "3bf23197-eccb-4a51-c473-505136c765e8"
      },
      "execution_count": null,
      "outputs": [
        {
          "output_type": "stream",
          "name": "stdout",
          "text": [
            "True\n",
            " ***** Corrected ******\n",
            "True\n"
          ]
        }
      ]
    },
    {
      "cell_type": "code",
      "source": [
        "# ---- Ex 1.2 ----\n",
        "\n",
        "\n",
        "#dtddoc.dtd\n",
        "dtd_string = \\\n",
        "'''\n",
        "DTD goes here\n",
        "'''\n",
        "\n",
        "# xmldoc.xml. \n",
        "\n",
        "xml_string = \\\n",
        "'''<?xml version=\"1.0\" encoding=\"UTF-8\"?>    \n",
        "    <p> This is a test. This is a test of the <em>\n",
        "    <strong>Emergency</em> Broadcast System.</strong></p>'''\n",
        "\n",
        "\n",
        "xml_string_correct = \\\n",
        "'''\n",
        "Correction goes here\n",
        "'''\n",
        "\n",
        "print(test_validation(xml_string, dtd_string, validate_xml))\n",
        "print(\" ***** Corrected ******\")\n",
        "print(test_validation(xml_string_correct, dtd_string, validate_xml))"
      ],
      "metadata": {
        "colab": {
          "base_uri": "https://localhost:8080/"
        },
        "id": "pCFo_VVXVVFE",
        "outputId": "eb8ab727-71fe-44ed-f021-cdcdfd74faf1"
      },
      "execution_count": null,
      "outputs": [
        {
          "output_type": "stream",
          "name": "stdout",
          "text": [
            "XMLSyntaxError: Opening and ending tag mismatch: strong line 3 and em, line 3, column 27 (xml_temp.xml, line 3)\n",
            "\t0-> Opening and ending tag mismatch: strong line 3 and em, at line 3\n",
            "\t1-> Opening and ending tag mismatch: em line 2 and strong, at line 3\n",
            "False\n",
            " ***** Corrected ******\n",
            "True\n"
          ]
        }
      ]
    },
    {
      "cell_type": "code",
      "source": [
        "# ---- Ex 1.3 ----\n",
        "#dtddoc.dtd\n",
        "dtd_string = \\\n",
        "'''\n",
        "DTD goes here\n",
        "'''\n",
        "\n",
        "# xmldoc.xml. \n",
        "\n",
        "xml_string = \\\n",
        "'''<?xml version=\"1.0\" encoding=\"UTF-8\"?>\n",
        "    <note date=\"12/11/2007\">\n",
        "        <!-- This is a comment -->\n",
        "        <Message>\n",
        "            <to>Tove</to>\n",
        "            <from>Jani</from>\n",
        "            <heading>Reminder</heading>\n",
        "            <body>Dont forget me this weekend!</body>\n",
        "        </message>\n",
        "    </note>\n",
        "    <note date=\"13/11/2007\">\n",
        "        <message>\n",
        "            <to>Jani</to>\n",
        "            <from>Tove</from>\n",
        "            <heading>Re: Reminder</heading>\n",
        "            <body>Ok!</body>\n",
        "        </message>\n",
        "    </note>'''\n",
        "\n",
        "xml_string_correct = \\\n",
        "'''\n",
        "Correction goes here\n",
        "'''\n",
        "\n",
        "print(test_validation(xml_string, dtd_string, validate_xml))\n",
        "print(\" ***** Corrected ******\")\n",
        "print(test_validation(xml_string_correct, dtd_string, validate_xml))"
      ],
      "metadata": {
        "colab": {
          "base_uri": "https://localhost:8080/"
        },
        "id": "D-oXwFIYXMca",
        "outputId": "bf7a1424-7bd2-4e30-ed74-96c72ed1bdfb"
      },
      "execution_count": null,
      "outputs": [
        {
          "output_type": "stream",
          "name": "stdout",
          "text": [
            "XMLSyntaxError: Opening and ending tag mismatch: Message line 4 and message, line 9, column 19 (xml_temp.xml, line 9)\n",
            "\t0-> Opening and ending tag mismatch: Message line 4 and message, at line 9\n",
            "\t1-> Extra content at the end of the document, at line 11\n",
            "False\n",
            " ***** Corrected ******\n",
            "True\n"
          ]
        }
      ]
    },
    {
      "cell_type": "code",
      "source": [
        "# ---- Ex 1.4 ----\n",
        "#dtddoc.dtd\n",
        "dtd_string = \\\n",
        "'''\n",
        "DTD goes here\n",
        "'''\n",
        "\n",
        "# xmldoc.xml. \n",
        "# XML document is correct ! Make sure to add the namespace in the DTD file\n",
        "# as an attribute\n",
        "\n",
        "xml_string = \\\n",
        "'''<?xml version=\"1.0\" encoding=\"utf-8\"?>\n",
        "<xs:schema attributeFormDefault=\"unqualified\" elementFormDefault=\"qualified\" \n",
        "xmlns:xs=\"http://www.w3.org/2001/XMLSchema\">\n",
        "    <xs:element name=\"points\">\n",
        "        <xs:complexType>\n",
        "            <xs:sequence>\n",
        "                <xs:element maxOccurs=\"unbounded\" name=\"point\">\n",
        "                    <xs:complexType>\n",
        "                        <xs:attribute name=\"x\" type=\"xs:unsignedShort\" use=\"required\" />\n",
        "                        xs:attribute name=\"y\" type=\"xs:unsignedShort\" use=\"required\" />\n",
        "                    </xs:complexType>\n",
        "                </xs:element>\n",
        "            </xs:sequence>\n",
        "        </xs:complexType>\n",
        "    </xs:element>\n",
        "</xs:schema>'''\n",
        "\n",
        "xml_string_correct = \\\n",
        "'''\n",
        "Correction goes here\n",
        "'''\n",
        "\n",
        "print(test_validation(xml_string, dtd_string, validate_xml))\n",
        "print(\" ***** Corrected ******\")\n",
        "print(test_validation(xml_string_correct, dtd_string, validate_xml))"
      ],
      "metadata": {
        "colab": {
          "base_uri": "https://localhost:8080/"
        },
        "id": "9DeAVtOqfB27",
        "outputId": "7a80c5fe-9bcd-4b58-b2fe-ea7c0e5d0402"
      },
      "execution_count": null,
      "outputs": [
        {
          "output_type": "stream",
          "name": "stdout",
          "text": [
            "True\n",
            " ***** Corrected ******\n",
            "True\n"
          ]
        }
      ]
    },
    {
      "cell_type": "code",
      "source": [
        "# ---- Ex 1.5 ----\n",
        "#dtddoc.dtd\n",
        "dtd_string = \\\n",
        "'''\n",
        "DTD goes here\n",
        "'''\n",
        "\n",
        "# xmldoc.xml. \n",
        "\n",
        "xml_string = \\\n",
        "'''<?xml version=\"1.0\" encoding=\"UTF-8\"?>\n",
        "<html>\n",
        "    <head><title>Paragraphs</title></head>\n",
        "    <body>\n",
        "        <p>This is a paragraph.<br/>\n",
        "        <p>This is another paragraph.<br/>\n",
        "        <p>Third paragraph.\n",
        "    </body>\n",
        "</html>'''\n",
        "\n",
        "\n",
        "xml_string_correct = \\\n",
        "'''\n",
        "Correction goes here\n",
        "'''\n",
        "\n",
        "print(test_validation(xml_string, dtd_string, validate_xml))\n",
        "print(\" ***** Corrected ******\")\n",
        "print(test_validation(xml_string_correct, dtd_string, validate_xml))"
      ],
      "metadata": {
        "colab": {
          "base_uri": "https://localhost:8080/"
        },
        "id": "NiV-HqK0isj3",
        "outputId": "6054d355-5760-4fc0-f287-619a3db3d822"
      },
      "execution_count": null,
      "outputs": [
        {
          "output_type": "stream",
          "name": "stdout",
          "text": [
            "XMLSyntaxError: Opening and ending tag mismatch: p line 7 and body, line 8, column 12 (xml_temp.xml, line 8)\n",
            "\t0-> Opening and ending tag mismatch: p line 7 and body, at line 8\n",
            "\t1-> Opening and ending tag mismatch: p line 6 and html, at line 9\n",
            "\t2-> Premature end of data in tag p line 5, at line 9\n",
            "\t3-> Premature end of data in tag body line 4, at line 9\n",
            "\t4-> Premature end of data in tag html line 2, at line 9\n",
            "False\n",
            " ***** Corrected ******\n",
            "True\n"
          ]
        }
      ]
    },
    {
      "cell_type": "code",
      "source": [
        "# ---- Ex 1.6 ----\n",
        "#dtddoc.dtd\n",
        "dtd_string = \\\n",
        "'''\n",
        "DTD goes here\n",
        "'''\n",
        "\n",
        "# xmldoc.xml. \n",
        "\n",
        "xml_string = \\\n",
        "'''<?xml version=\"1.0\" encoding=\"UTF-8\"?>\n",
        "<rdf:RDF xmlns:rdf=\"http://www.w3.org/1999/02/22-rdf-syntax-ns#\"\n",
        "xmlns:dc=\"http://purl.org/dc/elements/1.1/\">\n",
        "    <rdf:Description rdf:about=http://www.AcronymFinder.com/>\n",
        "        <dc:title>Acronym Finder</dc:title>\n",
        "        <dc:description>The Acronym Finder is a world wide\n",
        "            web (WWW) searchable database of more than 169,000\n",
        "            abbreviations and acronyms about computers,\n",
        "            technology, telecommunications, and military\n",
        "            acronyms and abbreviations.</dc:description>\n",
        "        <dc:subject>\n",
        "            <rdf:Bag>\n",
        "                <rdf:li>Astronomy</rdf:li>\n",
        "                <rdf:li>Literature</rdf:li>\n",
        "                <rdf:li>Mathematics</rdf:li>\n",
        "                <rdf:li>Music</rdf:li>\n",
        "                <rdf:li>Philosophy</rdf:li>\n",
        "            </rdf:Bag>\n",
        "        </dc:subject>\n",
        "    </rdf:Description>\n",
        "</rdf:RDF>'''\n",
        "\n",
        "xml_string_correct = \\\n",
        "'''\n",
        "Correction goes here\n",
        "'''\n",
        "\n",
        "print(test_validation(xml_string, dtd_string, validate_xml))\n",
        "print(\" ***** Corrected ******\")\n",
        "print(test_validation(xml_string_correct, dtd_string, validate_xml))"
      ],
      "metadata": {
        "colab": {
          "base_uri": "https://localhost:8080/"
        },
        "id": "aoSRUomTkevU",
        "outputId": "c18ae98b-90a4-4ec7-c36f-d310571c37e0"
      },
      "execution_count": null,
      "outputs": [
        {
          "output_type": "stream",
          "name": "stdout",
          "text": [
            "XMLSyntaxError: AttValue: \" or ' expected, line 4, column 32 (xml_temp.xml, line 4)\n",
            "\t0-> AttValue: \" or ' expected, at line 4\n",
            "\t1-> attributes construct error, at line 4\n",
            "\t2-> Couldn't find end of Start Tag Description line 4, at line 4\n",
            "\t3-> Opening and ending tag mismatch: RDF line 2 and Description, at line 20\n",
            "\t4-> Extra content at the end of the document, at line 21\n",
            "False\n",
            " ***** Corrected ******\n",
            "True\n"
          ]
        }
      ]
    },
    {
      "cell_type": "code",
      "source": [
        "# ---- Ex 1.7 ----\n",
        "#dtddoc.dtd\n",
        "dtd_string = \\\n",
        "'''\n",
        "DTD goes here\n",
        "'''\n",
        "\n",
        "# xmldoc.xml. \n",
        "\n",
        "xml_string = \\\n",
        "'''<?xml version=\"1.0\" encoding=\"UTF-8\"?>\n",
        "    <html>\n",
        "        <body>\n",
        "            <p><b><i>This paragraph is bold and italic.</b></i></p><br/>\n",
        "            <p><i><b>This paragraph is italic and bold.</i></b></p><br/>\n",
        "        </body>\n",
        "    </html>'''\n",
        "\n",
        "xml_string_correct = \\\n",
        "'''\n",
        "Correction goes here\n",
        "'''\n",
        "\n",
        "print(test_validation(xml_string, dtd_string, validate_xml))\n",
        "print(\" ***** Corrected ******\")\n",
        "print(test_validation(xml_string_correct, dtd_string, validate_xml))"
      ],
      "metadata": {
        "colab": {
          "base_uri": "https://localhost:8080/"
        },
        "id": "FW8O1H2YlsgQ",
        "outputId": "6f9b02f6-58b5-46d8-8e9d-6b5a982f4d27"
      },
      "execution_count": null,
      "outputs": [
        {
          "output_type": "stream",
          "name": "stdout",
          "text": [
            "XMLSyntaxError: Opening and ending tag mismatch: i line 4 and b, line 4, column 60 (xml_temp.xml, line 4)\n",
            "\t0-> Opening and ending tag mismatch: i line 4 and b, at line 4\n",
            "\t1-> Opening and ending tag mismatch: b line 4 and i, at line 4\n",
            "\t2-> Opening and ending tag mismatch: b line 5 and i, at line 5\n",
            "\t3-> Opening and ending tag mismatch: i line 5 and b, at line 5\n",
            "False\n",
            " ***** Corrected ******\n",
            "True\n"
          ]
        }
      ]
    },
    {
      "cell_type": "code",
      "source": [
        "# ---- Ex 1.8 ----\n",
        "#dtddoc.dtd\n",
        "dtd_string = \\\n",
        "'''\n",
        "DTD goes here\n",
        "'''\n",
        "\n",
        "# xmldoc.xml. \n",
        "\n",
        "xml_string = \\\n",
        "'''<catalog>\n",
        "    <work type='prose' date='1906'>\n",
        "        <title>The Gift Of The Magi</title>\n",
        "        <author>O. Henry</author>\n",
        "    </work>\n",
        "    <work type='poem' date='1845'>\n",
        "        <title>The Raven</title>\n",
        "        <author>Edgar Allen Poe</author>\n",
        "    </work>\n",
        "    <work type='play' date='1601'>\n",
        "        <title>Hamlet</title>\n",
        "        <author>William Shakespeare</author>\n",
        "    </work>\n",
        "</catalog>'''\n",
        "\n",
        "xml_string_correct = \\\n",
        "'''\n",
        "Correction goes here\n",
        "'''\n",
        "\n",
        "print(test_validation(xml_string, dtd_string, validate_xml))\n",
        "print(\" ***** Corrected ******\")\n",
        "print(test_validation(xml_string_correct, dtd_string, validate_xml))"
      ],
      "metadata": {
        "colab": {
          "base_uri": "https://localhost:8080/"
        },
        "id": "OqpG2CVzmQMp",
        "outputId": "84fe8fe2-6e11-432b-dc1a-0caa62d86bb8"
      },
      "execution_count": null,
      "outputs": [
        {
          "output_type": "stream",
          "name": "stdout",
          "text": [
            "True\n",
            " ***** Corrected ******\n",
            "True\n"
          ]
        }
      ]
    },
    {
      "cell_type": "code",
      "source": [
        "# ---- Ex 1.9----\n",
        "#dtddoc.dtd\n",
        "dtd_string = \\\n",
        "'''\n",
        "DTD goes here\n",
        "'''\n",
        "\n",
        "# xmldoc.xml. \n",
        "# XML document is correct !\n",
        "\n",
        "xml_string = \\\n",
        "'''<?xml version=\"1.0\" encoding=\"UTF-8\"?>\n",
        "<letter>\n",
        "    <date>December 11, 2002</date>\n",
        "    <addressee>\n",
        "        <name>Melvile Dewey</name>\n",
        "        <address_one>Columbia University</address_one>\n",
        "        <address_two>New York, NY</address_two>\n",
        "    </addressee>\n",
        "    <greeting>Dear Melvile,</greeting>\n",
        "    <paragraph>I have been reading your ideas concerning nature of\n",
        "    librarianship, and <italics>I find them very intriguing</italics>.\n",
        "    I would love the opportunity to discuss with you the role of the\n",
        "    card catalog in today’s libraries considering the advent to World\n",
        "    Wide Web. Specifically, how are things like Google and Amazon.com\n",
        "    changing our patrons’ expectations of library services? Mr. Cutter\n",
        "    and I will be discussing these ideas at the next Annual Meeting,\n",
        "    and we are available at the follow dates/times:</paragraph>\n",
        "    <list>\n",
        "    <item>Monday, 2-4</item>\n",
        "    <item>Tuesday, 3-5</item>\n",
        "    <item>Thursday, 1-3</item>\n",
        "    </list>\n",
        "    <paragraph>We hope you can join us.</paragraph>\n",
        "    <closing>Sincerely, S. R. Ranganathan</closing>\n",
        "</letter>'''\n",
        "\n",
        "xml_string_correct = \\\n",
        "'''\n",
        "Correction goes here\n",
        "'''\n",
        "\n",
        "print(test_validation(xml_string, dtd_string, validate_xml))\n",
        "print(\" ***** Corrected ******\")\n",
        "print(test_validation(xml_string_correct, dtd_string, validate_xml))"
      ],
      "metadata": {
        "colab": {
          "base_uri": "https://localhost:8080/"
        },
        "id": "tvqiPqspnamC",
        "outputId": "ab0e609e-9ecf-48f0-9112-a3fbef7bb529"
      },
      "execution_count": null,
      "outputs": [
        {
          "output_type": "stream",
          "name": "stdout",
          "text": [
            "True\n",
            " ***** Corrected ******\n",
            "True\n"
          ]
        }
      ]
    },
    {
      "cell_type": "code",
      "source": [
        "# ---- Ex 1.10----\n",
        "#dtddoc.dtd\n",
        "dtd_string = \\\n",
        "'''\n",
        "DTD goes here\n",
        "'''\n",
        "\n",
        "# xmldoc.xml. \n",
        "\n",
        "\n",
        "xml_string = \\\n",
        "'''<?xml version=\"1.0\"?>\n",
        "<dictionary>\n",
        "    <word>\n",
        "        <update date=\"2002-12-23\"/>\n",
        "        <name is_acronym=\"true\">XML</Name>\n",
        "        <description>eXtensible Markup Language</description>\n",
        "    </word>\n",
        "    <word>\n",
        "        <update date=\"2002-12-23\"/>\n",
        "        <name is_acronym=\"true\">POP</name>\n",
        "        <definition default>Post Office Protocol</definition>\n",
        "        <definition>Point Of Purchase</definition>\n",
        "</dictionary>'''\n",
        "\n",
        "xml_string_correct = \\\n",
        "'''\n",
        "Correction goes here\n",
        "'''\n",
        "\n",
        "print(test_validation(xml_string, dtd_string, validate_xml))\n",
        "print(\" ***** Corrected ******\")\n",
        "print(test_validation(xml_string_correct, dtd_string, validate_xml))"
      ],
      "metadata": {
        "colab": {
          "base_uri": "https://localhost:8080/"
        },
        "id": "-B-WfRqVo1Xq",
        "outputId": "d1fa1a16-4358-4a42-93a4-5012dd89db07"
      },
      "execution_count": null,
      "outputs": [
        {
          "output_type": "stream",
          "name": "stdout",
          "text": [
            "XMLSyntaxError: Opening and ending tag mismatch: name line 5 and Name, line 5, column 43 (xml_temp.xml, line 5)\n",
            "\t0-> Opening and ending tag mismatch: name line 5 and Name, at line 5\n",
            "\t1-> Specification mandates value for attribute default, at line 11\n",
            "\t2-> Opening and ending tag mismatch: word line 8 and dictionary, at line 13\n",
            "\t3-> Premature end of data in tag dictionary line 2, at line 13\n",
            "False\n",
            " ***** Corrected ******\n",
            "True\n"
          ]
        }
      ]
    },
    {
      "cell_type": "code",
      "source": [
        "# ---- Ex 1.11----\n",
        "#dtddoc.dtd\n",
        "dtd_string = \\\n",
        "'''\n",
        "DTD goes here\n",
        "'''\n",
        "\n",
        "# xmldoc.xml. \n",
        "\n",
        "xml_string = \\\n",
        "'''<?xml version=\"1.0\" encoding=\"UTF-8\"?>\n",
        "<domain type='kvm>\n",
        "    <name>domain</name><\n",
        "    <memory>524288</memory>\n",
        "    <vcpu>2</vcpu>\n",
        "    <features><acpi/><pae/>\n",
        "    <clock offset='utc'>\n",
        "    <disk type='block' device='cdrom'>\n",
        "        <driver name='qemu' type='raw'/>\n",
        "        <source file='/path/to/image.iso'/>\n",
        "        <tar get dev='hdc' bus='ide'/>\n",
        "        <readonly/></name>\n",
        "    </disk>\n",
        "</domain>'''\n",
        "\n",
        "xml_string_correct = \\\n",
        "'''\n",
        "Correction goes here\n",
        "'''\n",
        "\n",
        "print(test_validation(xml_string, dtd_string, validate_xml))\n",
        "print(\" ***** Corrected ******\")\n",
        "print(test_validation(xml_string_correct, dtd_string, validate_xml))"
      ],
      "metadata": {
        "colab": {
          "base_uri": "https://localhost:8080/"
        },
        "id": "e9EJZXf6qekY",
        "outputId": "128051aa-1e45-4336-fdd5-0a4463b12f4d"
      },
      "execution_count": null,
      "outputs": [
        {
          "output_type": "stream",
          "name": "stdout",
          "text": [
            "XMLSyntaxError: Unescaped '<' not allowed in attributes values, line 3, column 5 (xml_temp.xml, line 3)\n",
            "\t0-> Unescaped '<' not allowed in attributes values, at line 3\n",
            "\t1-> attributes construct error, at line 3\n",
            "\t2-> Couldn't find end of Start Tag domain line 2, at line 3\n",
            "\t3-> Extra content at the end of the document, at line 3\n",
            "False\n",
            " ***** Corrected ******\n",
            "True\n"
          ]
        }
      ]
    },
    {
      "cell_type": "code",
      "source": [
        "# ---- Ex 1.12----\n",
        "#dtddoc.dtd\n",
        "dtd_string = \\\n",
        "'''\n",
        "DTD goes here\n",
        "'''\n",
        "\n",
        "# xmldoc.xml. \n",
        "\n",
        "\n",
        "xml_string = \\\n",
        "'''<?xml version=\"1.0\" encoding=\"UTF-8\"?>\n",
        "<name>Oyster Soup</name>\n",
        "<author>Eric Lease Morgan</author>\n",
        "<copyright holder=Eric Lease Morgan>&copy; 2003</copyright>\n",
        "<ingredients>\n",
        "<list>\n",
        "<item>1 stalk of celery\n",
        "<item>1 onion\n",
        "<item>2 tablespoons of butter\n",
        "<item>2 cups of oysters and their liquor\n",
        "<item>2 cups of half & half\n",
        "</list><cost>total cost < 36 euro </cost>\n",
        "</ingredients>\n",
        "<process><P>Begin by sauteing the celery and onions in butter until soft.\n",
        "Add oysters, oyster liquor, and cream. Heat until the oysters float.\n",
        "Serve in warm bowls.</p>\n",
        "<p><i>Yummy!</p></i>\n",
        "</process>'''\n",
        "\n",
        "xml_string_correct = \\\n",
        "'''\n",
        "Correction goes here\n",
        "'''\n",
        "\n",
        "print(test_validation(xml_string, dtd_string, validate_xml))\n",
        "print(\" ***** Corrected ******\")\n",
        "print(test_validation(xml_string_correct, dtd_string, validate_xml))"
      ],
      "metadata": {
        "colab": {
          "base_uri": "https://localhost:8080/"
        },
        "id": "iDc7kcexzgez",
        "outputId": "626e8276-c4a3-4a24-bab9-257ff876f484"
      },
      "execution_count": null,
      "outputs": [
        {
          "output_type": "stream",
          "name": "stdout",
          "text": [
            "XMLSyntaxError: Extra content at the end of the document, line 3, column 1 (xml_temp.xml, line 3)\n",
            "\t0-> Extra content at the end of the document, at line 3\n",
            "False\n",
            " ***** Corrected ******\n",
            "True\n"
          ]
        }
      ]
    },
    {
      "cell_type": "markdown",
      "source": [
        "# Ex 2\n",
        "Write a DTD file for the given XML file"
      ],
      "metadata": {
        "id": "xBgb-XZc3dOR"
      }
    },
    {
      "cell_type": "code",
      "source": [
        "xml_string = '''<?xml version=\"1.0\"?>\n",
        "<shiporder orderid=\"889923\">\n",
        "    <orderperson>John Smith</orderperson>\n",
        "    <shipto>\n",
        "        <name>Ola Nordmann</name>\n",
        "        <address>Langgt 23</address>\n",
        "        <city>4000 Stavanger</city>\n",
        "        <country>Norway</country>\n",
        "    </shipto>\n",
        "    <item>\n",
        "        <title>Empire Burlesque</title>\n",
        "        <note>Special Edition</note>\n",
        "        <quantity>1</quantity>\n",
        "        <price>10.90</price>\n",
        "    </item>\n",
        "    <item>\n",
        "        <title>Hide your heart</title>\n",
        "        <quantity>1</quantity>\n",
        "        <price>9.90</price>\n",
        "    </item>\n",
        "</shiporder>'''\n",
        "\n",
        "dtd_string = \\\n",
        "'''\n",
        "DTD goes here\n",
        "'''\n",
        "\n",
        "test_validation(xml_string, dtd_string, validate_xml)"
      ],
      "metadata": {
        "colab": {
          "base_uri": "https://localhost:8080/"
        },
        "id": "WX0eIgBN3jFF",
        "outputId": "2a672ded-6e65-4a30-d85c-1c1cb1cf61a0"
      },
      "execution_count": null,
      "outputs": [
        {
          "output_type": "execute_result",
          "data": {
            "text/plain": [
              "True"
            ]
          },
          "metadata": {},
          "execution_count": 90
        }
      ]
    },
    {
      "cell_type": "markdown",
      "source": [
        "# Ex 3\n",
        "Write a XML file for the given DTD file"
      ],
      "metadata": {
        "id": "0_sTbR1K5KQ7"
      }
    },
    {
      "cell_type": "code",
      "source": [
        "dtd_string = \\\n",
        "''' <!ELEMENT stock (new-car | used-car)*>\n",
        "    <!ELEMENT new-car (model, price)>\n",
        "    <!ELEMENT used-car (model, price, mileage, condition?)>\n",
        "    <!ELEMENT model (#PCDATA)>\n",
        "    <!ELEMENT price (#PCDATA)>\n",
        "    <!ELEMENT mileage (#PCDATA)>\n",
        "    <!ELEMENT condition (#PCDATA)>\n",
        "'''\n",
        "\n",
        "xml_string = \\\n",
        "'''\n",
        "XML goes here\n",
        "'''\n",
        "test_validation(xml_string, dtd_string, validate_xml)"
      ],
      "metadata": {
        "colab": {
          "base_uri": "https://localhost:8080/"
        },
        "id": "cUEWfnFV5eZA",
        "outputId": "d07360a9-70b5-4004-8372-531a42774538"
      },
      "execution_count": null,
      "outputs": [
        {
          "output_type": "execute_result",
          "data": {
            "text/plain": [
              "True"
            ]
          },
          "metadata": {},
          "execution_count": 97
        }
      ]
    },
    {
      "cell_type": "markdown",
      "source": [
        "# Ex 4\n",
        "Create a XML file and the corresponding DTD file following the described situation\n",
        "\n",
        "Envisager une application dans laquelle les résultats des matchs de football doivent être représentés en XML.\n",
        "Pour chaque **jeu**, nous voulons être en mesure de représenter les **deux équipes** impliquées, l’équipe qui jouait **chez eux**, quels **joueurs** ont marqué des **buts** (dont certains peuvent avoir été **pénalités**) et le **moment** où chacun a été marqué, et quels joueurs ont reçu des cartons **jaunes** et **rouges**."
      ],
      "metadata": {
        "id": "mf3UknwONbO8"
      }
    },
    {
      "cell_type": "code",
      "source": [
        "dtd_string = \\\n",
        "'''\n",
        "DTD goes here\n",
        "'''\n",
        "\n",
        "xml_string = \\\n",
        "'''\n",
        "XML goes here\n",
        "'''\n",
        "\n",
        "\n",
        "test_validation(xml_string, dtd_string, validate_xml)"
      ],
      "metadata": {
        "id": "Z-LrGNHGPWIK",
        "colab": {
          "base_uri": "https://localhost:8080/"
        },
        "outputId": "bb17f7a8-d98e-49eb-8502-3c66ab7df978"
      },
      "execution_count": null,
      "outputs": [
        {
          "output_type": "execute_result",
          "data": {
            "text/plain": [
              "True"
            ]
          },
          "metadata": {},
          "execution_count": 100
        }
      ]
    },
    {
      "cell_type": "markdown",
      "source": [
        "# Ex 5\n",
        "XPath axis: write the nodes that will be given as the result of each axis\n",
        "\n",
        "To see this, we will replicate the tree with a dummy XML file and do all the queries"
      ],
      "metadata": {
        "id": "Ivbl7fKNz0hk"
      }
    },
    {
      "cell_type": "code",
      "source": [
        "dtd_string = \\\n",
        "''' <!ELEMENT root ANY>\n",
        "    <!ELEMENT node ANY>\n",
        "    <!ATTLIST node id CDATA #IMPLIED>\n",
        "    <!ATTLIST node attribute CDATA #IMPLIED>\n",
        "    <!ELEMENT text ANY>\n",
        "'''\n",
        "\n",
        "xml_string = \\\n",
        "'''<?xml version=\"1.0\"?>\n",
        "    <root>\n",
        "        <node id=\"1\" attribute=\"node 2 - value 7\">\n",
        "            <node id=\"3\">\n",
        "                <node id=\"8\">\n",
        "                    <text>17</text>\n",
        "                </node>\n",
        "                <node id=\"9\">\n",
        "                </node>\n",
        "            </node>\n",
        "            <node id=\"4\" attribute=\"node 10 - value None\">\n",
        "                <node id=\"11\" attribute=\"node 18 - value None\">\n",
        "                    <text>19</text>\n",
        "                </node>\n",
        "                <node id=\"12\" attribute=\"node 20 - value None\">\n",
        "                    <node id=\"21\">\n",
        "                    </node>\n",
        "                    <node id=\"22\" attribute=\"node 25 - value None\">\n",
        "                        <text>26</text>\n",
        "                    </node>\n",
        "                    <node id=\"23\">                        \n",
        "                    </node>\n",
        "                    <text>24</text>\n",
        "                </node>\n",
        "            </node>\n",
        "            <node id=\"5\">\n",
        "                <node id=\"13\">\n",
        "                </node>\n",
        "                <node id=\"14\">                    \n",
        "                </node>\n",
        "            </node>\n",
        "            <node id=\"6\" attribute=\"node 15 - value None\">                \n",
        "                <text>16</text>\n",
        "            </node>\n",
        "        </node>\n",
        "    </root>\n",
        "'''\n",
        "test_validation(xml_string, dtd_string, validate_xml)"
      ],
      "metadata": {
        "colab": {
          "base_uri": "https://localhost:8080/"
        },
        "id": "yVn5bDP10DNN",
        "outputId": "238b12db-e2d4-45b4-cf72-986f414e1673"
      },
      "execution_count": null,
      "outputs": [
        {
          "output_type": "execute_result",
          "data": {
            "text/plain": [
              "True"
            ]
          },
          "metadata": {},
          "execution_count": 14
        }
      ]
    },
    {
      "cell_type": "code",
      "source": [
        "\"\"\" Write the query here \"\"\"\n",
        "\n",
        "query_string = 'Queries go here'\n",
        "\n",
        "# -------------------------------------------\n",
        "\n",
        "results = xpath_query_xml_string(xml_string, query_string)\n",
        "print_xpath_query_results(results)"
      ],
      "metadata": {
        "colab": {
          "base_uri": "https://localhost:8080/"
        },
        "id": "op7He8mA2VAr",
        "outputId": "bb329ce4-cf09-4c9b-c100-3d7cb3946b85"
      },
      "execution_count": null,
      "outputs": [
        {
          "output_type": "stream",
          "name": "stdout",
          "text": [
            "Total results: 1\n",
            "********************\n",
            "\n",
            "node tag: node\n",
            "node text: *None*\n",
            "id = 12, attribute = node 20 - value None\n",
            "--------------------\n"
          ]
        }
      ]
    },
    {
      "cell_type": "markdown",
      "source": [
        "# Ex 6\n",
        "Create an XML file where both queries yield the same result"
      ],
      "metadata": {
        "id": "0r32qzp8t6Ny"
      }
    },
    {
      "cell_type": "code",
      "source": [
        "dtd_string = \\\n",
        "''' <!ELEMENT root ANY>\n",
        "    <!ELEMENT cours ANY>\n",
        "    <!ATTLIST cours id CDATA #IMPLIED>\n",
        "    <!ELEMENT intitule ANY>\n",
        "    <!ELEMENT XML ANY>\n",
        "'''\n",
        "\n",
        "xml_string = \\\n",
        "'''\n",
        "XML goes here\n",
        "'''\n",
        "test_validation(xml_string, dtd_string, validate_xml)"
      ],
      "metadata": {
        "id": "pkiBIJ2Xt5Oh"
      },
      "execution_count": null,
      "outputs": []
    },
    {
      "cell_type": "code",
      "source": [
        "query_string_1 = \"//cours[intitule='XML']\"\n",
        "query_string_2 = \"//cours[intitule=XML]\"\n",
        "\n",
        "# First query\n",
        "results = xpath_query_xml_string(xml_string, query_string_1)\n",
        "print_xpath_query_results(results)\n",
        "\n",
        "print(\"\\n\" + \"~\"*40 + \"\\n\")\n",
        "\n",
        "# Second query\n",
        "results = xpath_query_xml_string(xml_string, query_string_2)\n",
        "print_xpath_query_results(results)"
      ],
      "metadata": {
        "id": "yGBQw7JPuJIY"
      },
      "execution_count": null,
      "outputs": []
    },
    {
      "cell_type": "markdown",
      "source": [
        "# Ex 7\n",
        "\n",
        "Explain the difference between the two queries and show a document where they yield different outputs"
      ],
      "metadata": {
        "id": "AQSEXjSU6XYd"
      }
    },
    {
      "cell_type": "code",
      "source": [
        "dtd_string = \\\n",
        "'''\n",
        "DTD goes here\n",
        "'''\n",
        "\n",
        "\n",
        "xml_string = \\\n",
        "'''\n",
        "XML goes here\n",
        "'''\n",
        "test_validation(xml_string, dtd_string, validate_xml)"
      ],
      "metadata": {
        "colab": {
          "base_uri": "https://localhost:8080/"
        },
        "id": "7wf3cuir6QuT",
        "outputId": "2b6fbf02-5503-41f4-ec86-c2021c070aeb"
      },
      "execution_count": null,
      "outputs": [
        {
          "output_type": "execute_result",
          "data": {
            "text/plain": [
              "True"
            ]
          },
          "metadata": {},
          "execution_count": 88
        }
      ]
    },
    {
      "cell_type": "code",
      "source": [
        "query_string_1 = \"//B[position()=1]\"\n",
        "query_string_1_extended = \"/descendant-or-self::node()/B[position()=1]\"\n",
        "query_string_2 = \"/descendant::B[position()=1]\"\n",
        "\n",
        "# First query\n",
        "results = xpath_query_xml_string(xml_string, query_string_1)\n",
        "print_xpath_query_results(results)\n",
        "\n",
        "print(\"\\n\" + \"~\"*40 + \"\\n\")\n",
        "\n",
        "# First query extended\n",
        "results = xpath_query_xml_string(xml_string, query_string_1_extended)\n",
        "print_xpath_query_results(results)\n",
        "\n",
        "print(\"\\n\" + \"~\"*40 + \"\\n\")\n",
        "\n",
        "# Second query\n",
        "results = xpath_query_xml_string(xml_string, query_string_2)\n",
        "print_xpath_query_results(results)\n"
      ],
      "metadata": {
        "id": "UeSwHDxP6vlF"
      },
      "execution_count": null,
      "outputs": []
    },
    {
      "cell_type": "markdown",
      "source": [
        "# Ex 8\n",
        "Perform the XPath queries to the Films database\n",
        "\n",
        "I have prepared two very similar film databases. A big one and a smaller one.\n",
        "I recommend to use the smaller one for testing the queries. Then you can do som more practice on the bigger dataset.\n",
        "\n",
        "Choose which one to use and **run the cell** to download the corresponding DTD and XML files.\n",
        "\n",
        "By default, the dummy dataset is downloaded. Check the box to select the big one\n",
        "\n",
        "***NOTE:*** The DTD files have a very small difference, your queries should work in both cases."
      ],
      "metadata": {
        "id": "4sM7BP45AFR8"
      }
    },
    {
      "cell_type": "code",
      "source": [
        "#@title Run this cell to download the files { run: \"auto\" }\n",
        "download_big_dataset = False #@param {type:\"boolean\"}\n",
        "\n",
        "\n",
        "dtd_link = \"https://universitedauphine-my.sharepoint.com/:u:/g/personal/lucas_gnecco-heredia_universitedauphine_onmicrosoft_com/EX5vDf66PLNJu4UORqO0Uc8B0Lt_YniZ2KZb41MYRzqaVA\"\n",
        "imdb_sample_link = \"https://universitedauphine-my.sharepoint.com/:u:/g/personal/lucas_gnecco-heredia_universitedauphine_onmicrosoft_com/EeHHLB6bFw9CsjLovqeVwFUB_HFKDf9cndpglovb6Bik_w\"\n",
        "\n",
        "\n",
        "dummy_dtd_link = \"https://universitedauphine-my.sharepoint.com/:u:/g/personal/lucas_gnecco-heredia_universitedauphine_onmicrosoft_com/EZz1fLB8TLlLoHvDZKi-kBEBPEviD99x-PSoLnYVapcsfQ\"\n",
        "dummy_imdb_sample_link = \"https://universitedauphine-my.sharepoint.com/:u:/g/personal/lucas_gnecco-heredia_universitedauphine_onmicrosoft_com/EaAWThKBY9JDtIgh5QrkfvYBHpOjt7VL95vyhgfVe3XVWA\"\n",
        "\n",
        "\n",
        "if download_big_dataset:\n",
        "    a, b = dtd_link, imdb_sample_link\n",
        "else:\n",
        "    a, b = dummy_dtd_link, dummy_imdb_sample_link\n",
        "\n",
        "!rm \"./dtd_films.dtd\"\n",
        "!rm \"./imdb_sample.xml\"\n",
        "\n",
        "# Download the imdb sample file\n",
        "!wget -O \"./dtd_films.dtd\" {a}\"?download=1\"\n",
        "!wget -O \"./imdb_sample.xml\" {b}\"?download=1\"\n",
        "\n",
        "# If the download fails, you will have to load the files into the Colab session. \n",
        "# Go to the Files section on the left panel\n",
        "\n",
        "if validate_xml(\"imdb_sample.xml\", \"dtd_films.dtd\"):\n",
        "    print(\"Files were downloaded correctly\")"
      ],
      "metadata": {
        "id": "D20YYhsb7N94",
        "cellView": "form",
        "colab": {
          "base_uri": "https://localhost:8080/"
        },
        "outputId": "93578dd7-94db-4981-8b89-3762eb9ca277"
      },
      "execution_count": null,
      "outputs": [
        {
          "output_type": "stream",
          "name": "stdout",
          "text": [
            "--2022-01-19 14:39:20--  https://universitedauphine-my.sharepoint.com/:u:/g/personal/lucas_gnecco-heredia_universitedauphine_onmicrosoft_com/EZz1fLB8TLlLoHvDZKi-kBEBPEviD99x-PSoLnYVapcsfQ?download=1\n",
            "Resolving universitedauphine-my.sharepoint.com (universitedauphine-my.sharepoint.com)... 13.107.136.9, 13.107.138.9\n",
            "Connecting to universitedauphine-my.sharepoint.com (universitedauphine-my.sharepoint.com)|13.107.136.9|:443... connected.\n",
            "HTTP request sent, awaiting response... 302 Found\n",
            "Location: /personal/lucas_gnecco-heredia_universitedauphine_onmicrosoft_com/Documents/Teaching/BDSS%202021/TD1_xml_dtd_xpath/films_2.dtd [following]\n",
            "--2022-01-19 14:39:21--  https://universitedauphine-my.sharepoint.com/personal/lucas_gnecco-heredia_universitedauphine_onmicrosoft_com/Documents/Teaching/BDSS%202021/TD1_xml_dtd_xpath/films_2.dtd\n",
            "Reusing existing connection to universitedauphine-my.sharepoint.com:443.\n",
            "HTTP request sent, awaiting response... 200 OK\n",
            "Length: 626 [text/xml]\n",
            "Saving to: ‘./dtd_films.dtd’\n",
            "\n",
            "./dtd_films.dtd     100%[===================>]     626  --.-KB/s    in 0s      \n",
            "\n",
            "2022-01-19 14:39:21 (94.4 MB/s) - ‘./dtd_films.dtd’ saved [626/626]\n",
            "\n",
            "--2022-01-19 14:39:21--  https://universitedauphine-my.sharepoint.com/:u:/g/personal/lucas_gnecco-heredia_universitedauphine_onmicrosoft_com/EaAWThKBY9JDtIgh5QrkfvYBHpOjt7VL95vyhgfVe3XVWA?download=1\n",
            "Resolving universitedauphine-my.sharepoint.com (universitedauphine-my.sharepoint.com)... 13.107.136.9, 13.107.138.9\n",
            "Connecting to universitedauphine-my.sharepoint.com (universitedauphine-my.sharepoint.com)|13.107.136.9|:443... connected.\n",
            "HTTP request sent, awaiting response... 302 Found\n",
            "Location: /personal/lucas_gnecco-heredia_universitedauphine_onmicrosoft_com/Documents/Teaching/BDSS%202021/TD1_xml_dtd_xpath/imdb_sample.xml [following]\n",
            "--2022-01-19 14:39:21--  https://universitedauphine-my.sharepoint.com/personal/lucas_gnecco-heredia_universitedauphine_onmicrosoft_com/Documents/Teaching/BDSS%202021/TD1_xml_dtd_xpath/imdb_sample.xml\n",
            "Reusing existing connection to universitedauphine-my.sharepoint.com:443.\n",
            "HTTP request sent, awaiting response... 200 OK\n",
            "Length: 10573 (10K) [text/xml]\n",
            "Saving to: ‘./imdb_sample.xml’\n",
            "\n",
            "./imdb_sample.xml   100%[===================>]  10.33K  --.-KB/s    in 0s      \n",
            "\n",
            "2022-01-19 14:39:22 (73.2 MB/s) - ‘./imdb_sample.xml’ saved [10573/10573]\n",
            "\n",
            "Files were downloaded correctly\n"
          ]
        }
      ]
    },
    {
      "cell_type": "code",
      "source": [
        "with open(\"dtd_films.dtd\") as f:\n",
        "    for i in range(5):\n",
        "        print(f.readline().rstrip(\"\\n\"))\n",
        "\n",
        "with open(\"imdb_sample.xml\") as f:\n",
        "    for i in range(10):\n",
        "        print(f.readline().rstrip(\"\\n\"))"
      ],
      "metadata": {
        "colab": {
          "base_uri": "https://localhost:8080/"
        },
        "id": "qbjsSzbDwk67",
        "outputId": "76b60edf-77ee-42c7-f1bb-1325fddae213"
      },
      "execution_count": null,
      "outputs": [
        {
          "output_type": "stream",
          "name": "stdout",
          "text": [
            "<!ELEMENT FILMS (FILM+, ARTISTE+)>\n",
            "<!ELEMENT FILM (TITRE, GENRE, PAYS, MES, ROLES, RESUME?)>\n",
            "<!ELEMENT TITRE (#PCDATA)>\n",
            "<!ATTLIST FILM Annee CDATA #REQUIRED>\n",
            "<!ELEMENT GENRE (#PCDATA)>\n",
            "<?xml version=\"1.0\" encoding=\"UTF-8\"?>\n",
            "\n",
            "<FILMS>\n",
            "<FILM Annee='1958'>\n",
            "<TITRE>Vertigo</TITRE>\n",
            "<GENRE>Drame</GENRE><PAYS>USA</PAYS><MES id_mes=\"_3\"></MES>\n",
            "<ROLES>\n",
            "<ROLE><PRENOM>James</PRENOM><NOM>Stewart</NOM>\n",
            "<INTITULE>John Ferguson</INTITULE></ROLE><ROLE><PRENOM>Kim</PRENOM><NOM>Novak</NOM>\n",
            "<INTITULE>Madeleine Elster</INTITULE></ROLE></ROLES>\n"
          ]
        }
      ]
    },
    {
      "cell_type": "code",
      "source": [
        "\"\"\" Write the query here \"\"\"\n",
        "\n",
        "query_string = 'Query here'\n",
        "\n",
        "\n",
        "# -------------------------------------------\n",
        "xml_path = \"imdb_sample.xml\"\n",
        "results = xpath_query_xml_file(xml_path, query_string)\n",
        "print_xpath_query_results(results)"
      ],
      "metadata": {
        "id": "cP6F3SI9Gqad"
      },
      "execution_count": null,
      "outputs": []
    }
  ]
}